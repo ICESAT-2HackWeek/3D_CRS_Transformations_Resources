{
 "cells": [
  {
   "cell_type": "code",
   "execution_count": 1,
   "id": "0a2951e5-1e9f-4338-867f-79f93de9c0d3",
   "metadata": {
    "tags": []
   },
   "outputs": [],
   "source": [
    "# NOTE: REQUIRES PROJ>=9.2 and GEOPANDAS>=0.13\n",
    "\n",
    "#!pip install geopandas==0.13"
   ]
  },
  {
   "cell_type": "code",
   "execution_count": 2,
   "id": "aff6d69e-07f9-4b6c-87d5-5ca7a13c08d0",
   "metadata": {
    "tags": []
   },
   "outputs": [
    {
     "name": "stdout",
     "output_type": "stream",
     "text": [
      "ON\n"
     ]
    }
   ],
   "source": [
    "import os\n",
    "os.environ['USE_PYGEOS'] = '0'\n",
    "os.environ['PROJ_DEBUG'] = '2' # For showing logs\n",
    "#os.environ['PROJ_NETWORK'] = 'ON' # Ensure this is 'ON' to get shift grids over the internet\n",
    "print(os.environ['PROJ_NETWORK']) \n",
    "\n",
    "import fiona\n",
    "import geopandas as gpd\n",
    "import shapely"
   ]
  },
  {
   "cell_type": "code",
   "execution_count": 3,
   "id": "a2078edc-442b-4ee2-be8a-fd6f47ed0743",
   "metadata": {
    "tags": []
   },
   "outputs": [
    {
     "name": "stdout",
     "output_type": "stream",
     "text": [
      "\n",
      "SYSTEM INFO\n",
      "-----------\n",
      "python     : 3.10.12 | packaged by conda-forge | (main, Jun 23 2023, 22:40:32) [GCC 12.3.0]\n",
      "executable : /srv/conda/envs/notebook/bin/python\n",
      "machine    : Linux-5.10.167-147.601.amzn2.x86_64-x86_64-with-glibc2.27\n",
      "\n",
      "GEOS, GDAL, PROJ INFO\n",
      "---------------------\n",
      "GEOS       : 3.11.2\n",
      "GEOS lib   : None\n",
      "GDAL       : 3.7.0\n",
      "GDAL data dir: /srv/conda/envs/notebook/share/gdal\n",
      "PROJ       : 9.2.1\n",
      "PROJ data dir: /srv/conda/envs/notebook/share/proj\n",
      "\n",
      "PYTHON DEPENDENCIES\n",
      "-------------------\n",
      "geopandas  : 0.13.0\n",
      "numpy      : 1.23.5\n",
      "pandas     : 1.5.1\n",
      "pyproj     : 3.6.0\n",
      "shapely    : 2.0.1\n",
      "fiona      : 1.9.4\n",
      "geoalchemy2: None\n",
      "geopy      : None\n",
      "matplotlib : 3.6.2\n",
      "mapclassify: 2.5.0\n",
      "pygeos     : 0.14\n",
      "pyogrio    : None\n",
      "psycopg2   : 2.9.6 (dt dec pq3 ext lo64)\n",
      "pyarrow    : 12.0.1\n",
      "rtree      : 1.0.1\n"
     ]
    }
   ],
   "source": [
    "gpd.show_versions()"
   ]
  },
  {
   "cell_type": "code",
   "execution_count": 4,
   "id": "f4c5d69c-7a9b-48e3-a79e-13addc10ff35",
   "metadata": {
    "tags": []
   },
   "outputs": [],
   "source": [
    "# from slidrule single granule, default parameters\n",
    "#gf = icesat2.atl06p({}, resources=['ATL03_20181019224323_03250112_005_01.h5'])\n",
    "gf = gpd.read_file('sliderule-output.gpkg',\n",
    "                  rows=100) "
   ]
  },
  {
   "cell_type": "code",
   "execution_count": 5,
   "id": "20851bf4-27e5-4b53-a82d-610844621713",
   "metadata": {
    "tags": []
   },
   "outputs": [
    {
     "data": {
      "text/plain": [
       "0    POINT (-100.63246 -78.98922)\n",
       "1    POINT (-100.63265 -78.98904)\n",
       "Name: geometry, dtype: geometry"
      ]
     },
     "execution_count": 5,
     "metadata": {},
     "output_type": "execute_result"
    }
   ],
   "source": [
    "gf.geometry.head(2)"
   ]
  },
  {
   "cell_type": "code",
   "execution_count": 6,
   "id": "18957036-0c63-4c6d-b7ba-92d33d66c8ac",
   "metadata": {
    "tags": []
   },
   "outputs": [
    {
     "name": "stderr",
     "output_type": "stream",
     "text": [
      "/tmp/ipykernel_2695/4052444587.py:3: FutureWarning: In a future version, `df.iloc[:, i] = newvals` will attempt to set the values inplace instead of always setting a new array. To retain the old behavior, use either `df[df.columns[i]] = newvals` or, if columns are non-unique, `df.isetitem(i, newvals)`\n",
      "  points.loc[:, 'time'] = points.time.dt.strftime('%Y-%m-%d')\n"
     ]
    },
    {
     "data": {
      "text/html": [
       "<div style=\"width:100%;\"><div style=\"position:relative;width:100%;height:0;padding-bottom:60%;\"><span style=\"color:#565656\">Make this Notebook Trusted to load map: File -> Trust Notebook</span><iframe srcdoc=\"&lt;!DOCTYPE html&gt;\n",
       "&lt;html&gt;\n",
       "&lt;head&gt;\n",
       "    \n",
       "    &lt;meta http-equiv=&quot;content-type&quot; content=&quot;text/html; charset=UTF-8&quot; /&gt;\n",
       "    \n",
       "        &lt;script&gt;\n",
       "            L_NO_TOUCH = false;\n",
       "            L_DISABLE_3D = false;\n",
       "        &lt;/script&gt;\n",
       "    \n",
       "    &lt;style&gt;html, body {width: 100%;height: 100%;margin: 0;padding: 0;}&lt;/style&gt;\n",
       "    &lt;style&gt;#map {position:absolute;top:0;bottom:0;right:0;left:0;}&lt;/style&gt;\n",
       "    &lt;script src=&quot;https://cdn.jsdelivr.net/npm/leaflet@1.9.3/dist/leaflet.js&quot;&gt;&lt;/script&gt;\n",
       "    &lt;script src=&quot;https://code.jquery.com/jquery-1.12.4.min.js&quot;&gt;&lt;/script&gt;\n",
       "    &lt;script src=&quot;https://cdn.jsdelivr.net/npm/bootstrap@5.2.2/dist/js/bootstrap.bundle.min.js&quot;&gt;&lt;/script&gt;\n",
       "    &lt;script src=&quot;https://cdnjs.cloudflare.com/ajax/libs/Leaflet.awesome-markers/2.0.2/leaflet.awesome-markers.js&quot;&gt;&lt;/script&gt;\n",
       "    &lt;link rel=&quot;stylesheet&quot; href=&quot;https://cdn.jsdelivr.net/npm/leaflet@1.9.3/dist/leaflet.css&quot;/&gt;\n",
       "    &lt;link rel=&quot;stylesheet&quot; href=&quot;https://cdn.jsdelivr.net/npm/bootstrap@5.2.2/dist/css/bootstrap.min.css&quot;/&gt;\n",
       "    &lt;link rel=&quot;stylesheet&quot; href=&quot;https://netdna.bootstrapcdn.com/bootstrap/3.0.0/css/bootstrap.min.css&quot;/&gt;\n",
       "    &lt;link rel=&quot;stylesheet&quot; href=&quot;https://cdn.jsdelivr.net/npm/@fortawesome/fontawesome-free@6.2.0/css/all.min.css&quot;/&gt;\n",
       "    &lt;link rel=&quot;stylesheet&quot; href=&quot;https://cdnjs.cloudflare.com/ajax/libs/Leaflet.awesome-markers/2.0.2/leaflet.awesome-markers.css&quot;/&gt;\n",
       "    &lt;link rel=&quot;stylesheet&quot; href=&quot;https://cdn.jsdelivr.net/gh/python-visualization/folium/folium/templates/leaflet.awesome.rotate.min.css&quot;/&gt;\n",
       "    \n",
       "            &lt;meta name=&quot;viewport&quot; content=&quot;width=device-width,\n",
       "                initial-scale=1.0, maximum-scale=1.0, user-scalable=no&quot; /&gt;\n",
       "            &lt;style&gt;\n",
       "                #map_8366bb0414240e77d3544f24a5d8ceb1 {\n",
       "                    position: relative;\n",
       "                    width: 100.0%;\n",
       "                    height: 100.0%;\n",
       "                    left: 0.0%;\n",
       "                    top: 0.0%;\n",
       "                }\n",
       "                .leaflet-container { font-size: 1rem; }\n",
       "            &lt;/style&gt;\n",
       "        \n",
       "    \n",
       "                    &lt;style&gt;\n",
       "                        .foliumtooltip {\n",
       "                            \n",
       "                        }\n",
       "                       .foliumtooltip table{\n",
       "                            margin: auto;\n",
       "                        }\n",
       "                        .foliumtooltip tr{\n",
       "                            text-align: left;\n",
       "                        }\n",
       "                        .foliumtooltip th{\n",
       "                            padding: 2px; padding-right: 8px;\n",
       "                        }\n",
       "                    &lt;/style&gt;\n",
       "            \n",
       "&lt;/head&gt;\n",
       "&lt;body&gt;\n",
       "    \n",
       "    \n",
       "            &lt;div class=&quot;folium-map&quot; id=&quot;map_8366bb0414240e77d3544f24a5d8ceb1&quot; &gt;&lt;/div&gt;\n",
       "        \n",
       "&lt;/body&gt;\n",
       "&lt;script&gt;\n",
       "    \n",
       "    \n",
       "            var map_8366bb0414240e77d3544f24a5d8ceb1 = L.map(\n",
       "                &quot;map_8366bb0414240e77d3544f24a5d8ceb1&quot;,\n",
       "                {\n",
       "                    center: [-78.99172577412558, -100.7896232307395],\n",
       "                    crs: L.CRS.EPSG3857,\n",
       "                    zoom: 10,\n",
       "                    zoomControl: true,\n",
       "                    preferCanvas: false,\n",
       "                }\n",
       "            );\n",
       "            L.control.scale().addTo(map_8366bb0414240e77d3544f24a5d8ceb1);\n",
       "\n",
       "            \n",
       "\n",
       "        \n",
       "    \n",
       "            var tile_layer_a06b64598dd95de7331cf01f01c72ffe = L.tileLayer(\n",
       "                &quot;https://{s}.tile.openstreetmap.org/{z}/{x}/{y}.png&quot;,\n",
       "                {&quot;attribution&quot;: &quot;Data by \\u0026copy; \\u003ca target=\\&quot;_blank\\&quot; href=\\&quot;http://openstreetmap.org\\&quot;\\u003eOpenStreetMap\\u003c/a\\u003e, under \\u003ca target=\\&quot;_blank\\&quot; href=\\&quot;http://www.openstreetmap.org/copyright\\&quot;\\u003eODbL\\u003c/a\\u003e.&quot;, &quot;detectRetina&quot;: false, &quot;maxNativeZoom&quot;: 18, &quot;maxZoom&quot;: 18, &quot;minZoom&quot;: 0, &quot;noWrap&quot;: false, &quot;opacity&quot;: 1, &quot;subdomains&quot;: &quot;abc&quot;, &quot;tms&quot;: false}\n",
       "            ).addTo(map_8366bb0414240e77d3544f24a5d8ceb1);\n",
       "        \n",
       "    \n",
       "            map_8366bb0414240e77d3544f24a5d8ceb1.fitBounds(\n",
       "                [[-79.00104942913823, -100.94678306984892], [-78.98240211911293, -100.63246339163007]],\n",
       "                {}\n",
       "            );\n",
       "        \n",
       "    \n",
       "        function geo_json_617164272ebf824d35c18b195035293f_styler(feature) {\n",
       "            switch(feature.id) {\n",
       "                default:\n",
       "                    return {&quot;fillOpacity&quot;: 0.5, &quot;weight&quot;: 2};\n",
       "            }\n",
       "        }\n",
       "        function geo_json_617164272ebf824d35c18b195035293f_highlighter(feature) {\n",
       "            switch(feature.id) {\n",
       "                default:\n",
       "                    return {&quot;fillOpacity&quot;: 0.75};\n",
       "            }\n",
       "        }\n",
       "        function geo_json_617164272ebf824d35c18b195035293f_pointToLayer(feature, latlng) {\n",
       "            var opts = {&quot;bubblingMouseEvents&quot;: true, &quot;color&quot;: &quot;#3388ff&quot;, &quot;dashArray&quot;: null, &quot;dashOffset&quot;: null, &quot;fill&quot;: true, &quot;fillColor&quot;: &quot;#3388ff&quot;, &quot;fillOpacity&quot;: 0.2, &quot;fillRule&quot;: &quot;evenodd&quot;, &quot;lineCap&quot;: &quot;round&quot;, &quot;lineJoin&quot;: &quot;round&quot;, &quot;opacity&quot;: 1.0, &quot;radius&quot;: 2, &quot;stroke&quot;: true, &quot;weight&quot;: 3};\n",
       "            \n",
       "            let style = geo_json_617164272ebf824d35c18b195035293f_styler(feature)\n",
       "            Object.assign(opts, style)\n",
       "            \n",
       "            return new L.CircleMarker(latlng, opts)\n",
       "        }\n",
       "\n",
       "        function geo_json_617164272ebf824d35c18b195035293f_onEachFeature(feature, layer) {\n",
       "            layer.on({\n",
       "                mouseout: function(e) {\n",
       "                    if(typeof e.target.setStyle === &quot;function&quot;){\n",
       "                        geo_json_617164272ebf824d35c18b195035293f.resetStyle(e.target);\n",
       "                    }\n",
       "                },\n",
       "                mouseover: function(e) {\n",
       "                    if(typeof e.target.setStyle === &quot;function&quot;){\n",
       "                        const highlightStyle = geo_json_617164272ebf824d35c18b195035293f_highlighter(e.target.feature)\n",
       "                        e.target.setStyle(highlightStyle);\n",
       "                    }\n",
       "                },\n",
       "            });\n",
       "        };\n",
       "        var geo_json_617164272ebf824d35c18b195035293f = L.geoJson(null, {\n",
       "                onEachFeature: geo_json_617164272ebf824d35c18b195035293f_onEachFeature,\n",
       "            \n",
       "                style: geo_json_617164272ebf824d35c18b195035293f_styler,\n",
       "                pointToLayer: geo_json_617164272ebf824d35c18b195035293f_pointToLayer\n",
       "        });\n",
       "\n",
       "        function geo_json_617164272ebf824d35c18b195035293f_add (data) {\n",
       "            geo_json_617164272ebf824d35c18b195035293f\n",
       "                .addData(data)\n",
       "                .addTo(map_8366bb0414240e77d3544f24a5d8ceb1);\n",
       "        }\n",
       "            geo_json_617164272ebf824d35c18b195035293f_add({&quot;bbox&quot;: [-100.94678306984892, -79.00104942913823, -100.63246339163007, -78.98240211911293], &quot;features&quot;: [{&quot;bbox&quot;: [-100.63246339163007, -78.98921540514897, -100.63246339163007, -78.98921540514897], &quot;geometry&quot;: {&quot;coordinates&quot;: [-100.63246339163007, -78.98921540514897], &quot;type&quot;: &quot;Point&quot;}, &quot;id&quot;: &quot;0&quot;, &quot;properties&quot;: {&quot;cycle&quot;: 1, &quot;dh_fit_dx&quot;: 0.010870090490449251, &quot;dh_fit_dy&quot;: 0.0, &quot;distance&quot;: 31318165.597002406, &quot;gt&quot;: 50, &quot;h_mean&quot;: 1875.2172759600721, &quot;h_sigma&quot;: 0.06681861493225781, &quot;index&quot;: 0, &quot;n_fit_photons&quot;: 85, &quot;pflags&quot;: 4, &quot;rgt&quot;: 325, &quot;rms_misfit&quot;: 0.6123660041359527, &quot;segment_id&quot;: 1565343, &quot;spot&quot;: 2, &quot;time&quot;: &quot;2018-10-19&quot;, &quot;w_surface_window_final&quot;: 5.361178154641397}, &quot;type&quot;: &quot;Feature&quot;}, {&quot;bbox&quot;: [-100.63264780169405, -78.98904067650072, -100.63264780169405, -78.98904067650072], &quot;geometry&quot;: {&quot;coordinates&quot;: [-100.63264780169405, -78.98904067650072], &quot;type&quot;: &quot;Point&quot;}, &quot;id&quot;: &quot;1&quot;, &quot;properties&quot;: {&quot;cycle&quot;: 1, &quot;dh_fit_dx&quot;: 0.0011063828145405745, &quot;dh_fit_dy&quot;: 0.0, &quot;distance&quot;: 31318185.49600201, &quot;gt&quot;: 50, &quot;h_mean&quot;: 1875.3668984219225, &quot;h_sigma&quot;: 0.03348806441098648, &quot;index&quot;: 1, &quot;n_fit_photons&quot;: 64, &quot;pflags&quot;: 0, &quot;rgt&quot;: 325, &quot;rms_misfit&quot;: 0.2618516925056621, &quot;segment_id&quot;: 1565344, &quot;spot&quot;: 2, &quot;time&quot;: &quot;2018-10-19&quot;, &quot;w_surface_window_final&quot;: 4.32712149857403}, &quot;type&quot;: &quot;Feature&quot;}, {&quot;bbox&quot;: [-100.63283317956532, -78.98886598730077, -100.63283317956532, -78.98886598730077], &quot;geometry&quot;: {&quot;coordinates&quot;: [-100.63283317956532, -78.98886598730077], &quot;type&quot;: &quot;Point&quot;}, &quot;id&quot;: &quot;2&quot;, &quot;properties&quot;: {&quot;cycle&quot;: 1, &quot;dh_fit_dx&quot;: 0.020058689100974306, &quot;dh_fit_dy&quot;: 0.0, &quot;distance&quot;: 31318205.395001765, &quot;gt&quot;: 50, &quot;h_mean&quot;: 1875.2522535069245, &quot;h_sigma&quot;: 0.06875128723901988, &quot;index&quot;: 2, &quot;n_fit_photons&quot;: 47, &quot;pflags&quot;: 0, &quot;rgt&quot;: 325, &quot;rms_misfit&quot;: 0.29810067949800356, &quot;segment_id&quot;: 1565345, &quot;spot&quot;: 2, &quot;time&quot;: &quot;2018-10-19&quot;, &quot;w_surface_window_final&quot;: 3.0625393981159528}, &quot;type&quot;: &quot;Feature&quot;}, {&quot;bbox&quot;: [-100.63302050675973, -78.9886913739691, -100.63302050675973, -78.9886913739691], &quot;geometry&quot;: {&quot;coordinates&quot;: [-100.63302050675973, -78.9886913739691], &quot;type&quot;: &quot;Point&quot;}, &quot;id&quot;: &quot;3&quot;, &quot;properties&quot;: {&quot;cycle&quot;: 1, &quot;dh_fit_dx&quot;: 0.002709077806056982, &quot;dh_fit_dy&quot;: 0.0, &quot;distance&quot;: 31318225.29400167, &quot;gt&quot;: 50, &quot;h_mean&quot;: 1875.5041817571055, &quot;h_sigma&quot;: 0.020000326170482034, &quot;index&quot;: 3, &quot;n_fit_photons&quot;: 86, &quot;pflags&quot;: 0, &quot;rgt&quot;: 325, &quot;rms_misfit&quot;: 0.18224103535297453, &quot;segment_id&quot;: 1565346, &quot;spot&quot;: 2, &quot;time&quot;: &quot;2018-10-19&quot;, &quot;w_surface_window_final&quot;: 3.0}, &quot;type&quot;: &quot;Feature&quot;}, {&quot;bbox&quot;: [-100.63320809674873, -78.988516768308, -100.63320809674873, -78.988516768308], &quot;geometry&quot;: {&quot;coordinates&quot;: [-100.63320809674873, -78.988516768308], &quot;type&quot;: &quot;Point&quot;}, &quot;id&quot;: &quot;4&quot;, &quot;properties&quot;: {&quot;cycle&quot;: 1, &quot;dh_fit_dx&quot;: -0.0008054574414121906, &quot;dh_fit_dy&quot;: 0.0, &quot;distance&quot;: 31318245.19300172, &quot;gt&quot;: 50, &quot;h_mean&quot;: 1875.5264100114541, &quot;h_sigma&quot;: 0.02722500758751929, &quot;index&quot;: 4, &quot;n_fit_photons&quot;: 100, &quot;pflags&quot;: 0, &quot;rgt&quot;: 325, &quot;rms_misfit&quot;: 0.27177678343134465, &quot;segment_id&quot;: 1565347, &quot;spot&quot;: 2, &quot;time&quot;: &quot;2018-10-19&quot;, &quot;w_surface_window_final&quot;: 3.0}, &quot;type&quot;: &quot;Feature&quot;}, {&quot;bbox&quot;: [-100.63339585229686, -78.9883421712285, -100.63339585229686, -78.9883421712285], &quot;geometry&quot;: {&quot;coordinates&quot;: [-100.63339585229686, -78.9883421712285], &quot;type&quot;: &quot;Point&quot;}, &quot;id&quot;: &quot;5&quot;, &quot;properties&quot;: {&quot;cycle&quot;: 1, &quot;dh_fit_dx&quot;: 0.0001297665120547375, &quot;dh_fit_dy&quot;: 0.0, &quot;distance&quot;: 31318265.092001922, &quot;gt&quot;: 50, &quot;h_mean&quot;: 1875.564067193102, &quot;h_sigma&quot;: 0.03173536141256648, &quot;index&quot;: 5, &quot;n_fit_photons&quot;: 94, &quot;pflags&quot;: 0, &quot;rgt&quot;: 325, &quot;rms_misfit&quot;: 0.30602311835506507, &quot;segment_id&quot;: 1565348, &quot;spot&quot;: 2, &quot;time&quot;: &quot;2018-10-19&quot;, &quot;w_surface_window_final&quot;: 3.0}, &quot;type&quot;: &quot;Feature&quot;}, {&quot;bbox&quot;: [-100.63358346280299, -78.98816756798207, -100.63358346280299, -78.98816756798207], &quot;geometry&quot;: {&quot;coordinates&quot;: [-100.63358346280299, -78.98816756798207], &quot;type&quot;: &quot;Point&quot;}, &quot;id&quot;: &quot;6&quot;, &quot;properties&quot;: {&quot;cycle&quot;: 1, &quot;dh_fit_dx&quot;: -0.0017951471206665418, &quot;dh_fit_dy&quot;: 0.0, &quot;distance&quot;: 31318284.991002273, &quot;gt&quot;: 50, &quot;h_mean&quot;: 1875.4769320515989, &quot;h_sigma&quot;: 0.05632849352510723, &quot;index&quot;: 6, &quot;n_fit_photons&quot;: 86, &quot;pflags&quot;: 4, &quot;rgt&quot;: 325, &quot;rms_misfit&quot;: 0.5220323142618515, &quot;segment_id&quot;: 1565349, &quot;spot&quot;: 2, &quot;time&quot;: &quot;2018-10-19&quot;, &quot;w_surface_window_final&quot;: 3.5537283289121704}, &quot;type&quot;: &quot;Feature&quot;}, {&quot;bbox&quot;: [-100.633770818648, -78.98799295503935, -100.633770818648, -78.98799295503935], &quot;geometry&quot;: {&quot;coordinates&quot;: [-100.633770818648, -78.98799295503935], &quot;type&quot;: &quot;Point&quot;}, &quot;id&quot;: &quot;7&quot;, &quot;properties&quot;: {&quot;cycle&quot;: 1, &quot;dh_fit_dx&quot;: 0.010707852730142896, &quot;dh_fit_dy&quot;: 0.0, &quot;distance&quot;: 31318304.890002772, &quot;gt&quot;: 50, &quot;h_mean&quot;: 1875.525429338919, &quot;h_sigma&quot;: 0.07587017121151803, &quot;index&quot;: 7, &quot;n_fit_photons&quot;: 88, &quot;pflags&quot;: 0, &quot;rgt&quot;: 325, &quot;rms_misfit&quot;: 0.7115993788608449, &quot;segment_id&quot;: 1565350, &quot;spot&quot;: 2, &quot;time&quot;: &quot;2018-10-19&quot;, &quot;w_surface_window_final&quot;: 6.490640771006121}, &quot;type&quot;: &quot;Feature&quot;}, {&quot;bbox&quot;: [-100.7871943205637, -78.99517154328777, -100.7871943205637, -78.99517154328777], &quot;geometry&quot;: {&quot;coordinates&quot;: [-100.7871943205637, -78.99517154328777], &quot;type&quot;: &quot;Point&quot;}, &quot;id&quot;: &quot;8&quot;, &quot;properties&quot;: {&quot;cycle&quot;: 1, &quot;dh_fit_dx&quot;: -0.02702510792175261, &quot;dh_fit_dy&quot;: 0.0, &quot;distance&quot;: 31318165.597002406, &quot;gt&quot;: 30, &quot;h_mean&quot;: 1877.151904385501, &quot;h_sigma&quot;: 0.0, &quot;index&quot;: 8, &quot;n_fit_photons&quot;: 157, &quot;pflags&quot;: 2, &quot;rgt&quot;: 325, &quot;rms_misfit&quot;: 0.0, &quot;segment_id&quot;: 1565343, &quot;spot&quot;: 4, &quot;time&quot;: &quot;2018-10-19&quot;, &quot;w_surface_window_final&quot;: 3.0}, &quot;type&quot;: &quot;Feature&quot;}, {&quot;bbox&quot;: [-100.63395771337754, -78.98781832540189, -100.63395771337754, -78.98781832540189], &quot;geometry&quot;: {&quot;coordinates&quot;: [-100.63395771337754, -78.98781832540189], &quot;type&quot;: &quot;Point&quot;}, &quot;id&quot;: &quot;9&quot;, &quot;properties&quot;: {&quot;cycle&quot;: 1, &quot;dh_fit_dx&quot;: -0.0012187921232758919, &quot;dh_fit_dy&quot;: 0.0, &quot;distance&quot;: 31318324.78900342, &quot;gt&quot;: 50, &quot;h_mean&quot;: 1875.5895346741133, &quot;h_sigma&quot;: 0.04438870671584975, &quot;index&quot;: 9, &quot;n_fit_photons&quot;: 80, &quot;pflags&quot;: 4, &quot;rgt&quot;: 325, &quot;rms_misfit&quot;: 0.3968501834819791, &quot;segment_id&quot;: 1565351, &quot;spot&quot;: 2, &quot;time&quot;: &quot;2018-10-19&quot;, &quot;w_surface_window_final&quot;: 3.0}, &quot;type&quot;: &quot;Feature&quot;}, {&quot;bbox&quot;: [-100.78737480400298, -78.99499667409697, -100.78737480400298, -78.99499667409697], &quot;geometry&quot;: {&quot;coordinates&quot;: [-100.78737480400298, -78.99499667409697], &quot;type&quot;: &quot;Point&quot;}, &quot;id&quot;: &quot;10&quot;, &quot;properties&quot;: {&quot;cycle&quot;: 1, &quot;dh_fit_dx&quot;: -0.02366348155912469, &quot;dh_fit_dy&quot;: 0.0, &quot;distance&quot;: 31318185.49600201, &quot;gt&quot;: 30, &quot;h_mean&quot;: 1874.180242030695, &quot;h_sigma&quot;: 0.08808078980038779, &quot;index&quot;: 10, &quot;n_fit_photons&quot;: 87, &quot;pflags&quot;: 4, &quot;rgt&quot;: 325, &quot;rms_misfit&quot;: 0.8177833483011702, &quot;segment_id&quot;: 1565344, &quot;spot&quot;: 4, &quot;time&quot;: &quot;2018-10-19&quot;, &quot;w_surface_window_final&quot;: 4.676488127248978}, &quot;type&quot;: &quot;Feature&quot;}, {&quot;bbox&quot;: [-100.6341437708202, -78.98764366207739, -100.6341437708202, -78.98764366207739], &quot;geometry&quot;: {&quot;coordinates&quot;: [-100.6341437708202, -78.98764366207739], &quot;type&quot;: &quot;Point&quot;}, &quot;id&quot;: &quot;11&quot;, &quot;properties&quot;: {&quot;cycle&quot;: 1, &quot;dh_fit_dx&quot;: 0.006857301337553129, &quot;dh_fit_dy&quot;: 0.0, &quot;distance&quot;: 31318344.688004218, &quot;gt&quot;: 50, &quot;h_mean&quot;: 1875.6631881334922, &quot;h_sigma&quot;: 0.02630952391692351, &quot;index&quot;: 11, &quot;n_fit_photons&quot;: 79, &quot;pflags&quot;: 0, &quot;rgt&quot;: 325, &quot;rms_misfit&quot;: 0.2328872576278779, &quot;segment_id&quot;: 1565352, &quot;spot&quot;: 2, &quot;time&quot;: &quot;2018-10-19&quot;, &quot;w_surface_window_final&quot;: 3.0}, &quot;type&quot;: &quot;Feature&quot;}, {&quot;bbox&quot;: [-100.7875573009986, -78.99482188222775, -100.7875573009986, -78.99482188222775], &quot;geometry&quot;: {&quot;coordinates&quot;: [-100.7875573009986, -78.99482188222775], &quot;type&quot;: &quot;Point&quot;}, &quot;id&quot;: &quot;12&quot;, &quot;properties&quot;: {&quot;cycle&quot;: 1, &quot;dh_fit_dx&quot;: -0.00029498537467771187, &quot;dh_fit_dy&quot;: 0.0, &quot;distance&quot;: 31318205.395001765, &quot;gt&quot;: 30, &quot;h_mean&quot;: 1874.3258263176474, &quot;h_sigma&quot;: 0.031169179538033054, &quot;index&quot;: 12, &quot;n_fit_photons&quot;: 71, &quot;pflags&quot;: 0, &quot;rgt&quot;: 325, &quot;rms_misfit&quot;: 0.26197110800383255, &quot;segment_id&quot;: 1565345, &quot;spot&quot;: 4, &quot;time&quot;: &quot;2018-10-19&quot;, &quot;w_surface_window_final&quot;: 3.0}, &quot;type&quot;: &quot;Feature&quot;}, {&quot;bbox&quot;: [-100.63432880334332, -78.98746896027504, -100.63432880334332, -78.98746896027504], &quot;geometry&quot;: {&quot;coordinates&quot;: [-100.63432880334332, -78.98746896027504], &quot;type&quot;: &quot;Point&quot;}, &quot;id&quot;: &quot;13&quot;, &quot;properties&quot;: {&quot;cycle&quot;: 1, &quot;dh_fit_dx&quot;: -0.004941196744140535, &quot;dh_fit_dy&quot;: 0.0, &quot;distance&quot;: 31318364.587005164, &quot;gt&quot;: 50, &quot;h_mean&quot;: 1875.825610649132, &quot;h_sigma&quot;: 0.0319001820458606, &quot;index&quot;: 13, &quot;n_fit_photons&quot;: 62, &quot;pflags&quot;: 0, &quot;rgt&quot;: 325, &quot;rms_misfit&quot;: 0.1953497960002299, &quot;segment_id&quot;: 1565353, &quot;spot&quot;: 2, &quot;time&quot;: &quot;2018-10-19&quot;, &quot;w_surface_window_final&quot;: 3.0}, &quot;type&quot;: &quot;Feature&quot;}, {&quot;bbox&quot;: [-100.78774118399565, -78.9946471431624, -100.78774118399565, -78.9946471431624], &quot;geometry&quot;: {&quot;coordinates&quot;: [-100.78774118399565, -78.9946471431624], &quot;type&quot;: &quot;Point&quot;}, &quot;id&quot;: &quot;14&quot;, &quot;properties&quot;: {&quot;cycle&quot;: 1, &quot;dh_fit_dx&quot;: 0.0019812957768892366, &quot;dh_fit_dy&quot;: 0.0, &quot;distance&quot;: 31318225.29400167, &quot;gt&quot;: 30, &quot;h_mean&quot;: 1874.4415734970635, &quot;h_sigma&quot;: 0.06275460628887168, &quot;index&quot;: 14, &quot;n_fit_photons&quot;: 72, &quot;pflags&quot;: 4, &quot;rgt&quot;: 325, &quot;rms_misfit&quot;: 0.5310937040188418, &quot;segment_id&quot;: 1565346, &quot;spot&quot;: 4, &quot;time&quot;: &quot;2018-10-19&quot;, &quot;w_surface_window_final&quot;: 3.3791155465055382}, &quot;type&quot;: &quot;Feature&quot;}, {&quot;bbox&quot;: [-100.63451283135224, -78.98729421671737, -100.63451283135224, -78.98729421671737], &quot;geometry&quot;: {&quot;coordinates&quot;: [-100.63451283135224, -78.98729421671737], &quot;type&quot;: &quot;Point&quot;}, &quot;id&quot;: &quot;15&quot;, &quot;properties&quot;: {&quot;cycle&quot;: 1, &quot;dh_fit_dx&quot;: 0.0036175428121803044, &quot;dh_fit_dy&quot;: 0.0, &quot;distance&quot;: 31318384.48600626, &quot;gt&quot;: 50, &quot;h_mean&quot;: 1875.8015832716728, &quot;h_sigma&quot;: 0.02403797518064921, &quot;index&quot;: 15, &quot;n_fit_photons&quot;: 63, &quot;pflags&quot;: 0, &quot;rgt&quot;: 325, &quot;rms_misfit&quot;: 0.15723462204799432, &quot;segment_id&quot;: 1565354, &quot;spot&quot;: 2, &quot;time&quot;: &quot;2018-10-19&quot;, &quot;w_surface_window_final&quot;: 3.0}, &quot;type&quot;: &quot;Feature&quot;}, {&quot;bbox&quot;: [-100.78792567012488, -78.99447242718041, -100.78792567012488, -78.99447242718041], &quot;geometry&quot;: {&quot;coordinates&quot;: [-100.78792567012488, -78.99447242718041], &quot;type&quot;: &quot;Point&quot;}, &quot;id&quot;: &quot;16&quot;, &quot;properties&quot;: {&quot;cycle&quot;: 1, &quot;dh_fit_dx&quot;: -0.0011488995301435474, &quot;dh_fit_dy&quot;: 0.0, &quot;distance&quot;: 31318245.19300172, &quot;gt&quot;: 30, &quot;h_mean&quot;: 1874.3486912236879, &quot;h_sigma&quot;: 0.03815236458853898, &quot;index&quot;: 16, &quot;n_fit_photons&quot;: 66, &quot;pflags&quot;: 0, &quot;rgt&quot;: 325, &quot;rms_misfit&quot;: 0.3099335342653288, &quot;segment_id&quot;: 1565347, &quot;spot&quot;: 4, &quot;time&quot;: &quot;2018-10-19&quot;, &quot;w_surface_window_final&quot;: 3.0}, &quot;type&quot;: &quot;Feature&quot;}, {&quot;bbox&quot;: [-100.63469626166224, -78.98711945286234, -100.63469626166224, -78.98711945286234], &quot;geometry&quot;: {&quot;coordinates&quot;: [-100.63469626166224, -78.98711945286234], &quot;type&quot;: &quot;Point&quot;}, &quot;id&quot;: &quot;17&quot;, &quot;properties&quot;: {&quot;cycle&quot;: 1, &quot;dh_fit_dx&quot;: 0.005940338825529322, &quot;dh_fit_dy&quot;: 0.0, &quot;distance&quot;: 31318404.385007504, &quot;gt&quot;: 50, &quot;h_mean&quot;: 1875.8041803064864, &quot;h_sigma&quot;: 0.030391611172854816, &quot;index&quot;: 17, &quot;n_fit_photons&quot;: 94, &quot;pflags&quot;: 4, &quot;rgt&quot;: 325, &quot;rms_misfit&quot;: 0.28646023324938075, &quot;segment_id&quot;: 1565355, &quot;spot&quot;: 2, &quot;time&quot;: &quot;2018-10-19&quot;, &quot;w_surface_window_final&quot;: 3.0}, &quot;type&quot;: &quot;Feature&quot;}, {&quot;bbox&quot;: [-100.78811042213263, -78.99429772161223, -100.78811042213263, -78.99429772161223], &quot;geometry&quot;: {&quot;coordinates&quot;: [-100.78811042213263, -78.99429772161223], &quot;type&quot;: &quot;Point&quot;}, &quot;id&quot;: &quot;18&quot;, &quot;properties&quot;: {&quot;cycle&quot;: 1, &quot;dh_fit_dx&quot;: -0.002710615407636506, &quot;dh_fit_dy&quot;: 0.0, &quot;distance&quot;: 31318265.092001922, &quot;gt&quot;: 30, &quot;h_mean&quot;: 1874.2438278113248, &quot;h_sigma&quot;: 0.03430718027891223, &quot;index&quot;: 18, &quot;n_fit_photons&quot;: 73, &quot;pflags&quot;: 0, &quot;rgt&quot;: 325, &quot;rms_misfit&quot;: 0.2872312499166884, &quot;segment_id&quot;: 1565348, &quot;spot&quot;: 4, &quot;time&quot;: &quot;2018-10-19&quot;, &quot;w_surface_window_final&quot;: 3.0}, &quot;type&quot;: &quot;Feature&quot;}, {&quot;bbox&quot;: [-100.78829526013388, -78.99412301953608, -100.78829526013388, -78.99412301953608], &quot;geometry&quot;: {&quot;coordinates&quot;: [-100.78829526013388, -78.99412301953608], &quot;type&quot;: &quot;Point&quot;}, &quot;id&quot;: &quot;19&quot;, &quot;properties&quot;: {&quot;cycle&quot;: 1, &quot;dh_fit_dx&quot;: -0.0021863053041103146, &quot;dh_fit_dy&quot;: 0.0, &quot;distance&quot;: 31318284.991002273, &quot;gt&quot;: 30, &quot;h_mean&quot;: 1874.1823642164595, &quot;h_sigma&quot;: 0.04735446489618689, &quot;index&quot;: 19, &quot;n_fit_photons&quot;: 77, &quot;pflags&quot;: 0, &quot;rgt&quot;: 325, &quot;rms_misfit&quot;: 0.4117800537204691, &quot;segment_id&quot;: 1565349, &quot;spot&quot;: 4, &quot;time&quot;: &quot;2018-10-19&quot;, &quot;w_surface_window_final&quot;: 4.172236553519962}, &quot;type&quot;: &quot;Feature&quot;}, {&quot;bbox&quot;: [-100.63487941412191, -78.98694467951341, -100.63487941412191, -78.98694467951341], &quot;geometry&quot;: {&quot;coordinates&quot;: [-100.63487941412191, -78.98694467951341], &quot;type&quot;: &quot;Point&quot;}, &quot;id&quot;: &quot;20&quot;, &quot;properties&quot;: {&quot;cycle&quot;: 1, &quot;dh_fit_dx&quot;: -0.009999775615746536, &quot;dh_fit_dy&quot;: 0.0, &quot;distance&quot;: 31318424.284008898, &quot;gt&quot;: 50, &quot;h_mean&quot;: 1875.9775858176865, &quot;h_sigma&quot;: 0.02788116574369504, &quot;index&quot;: 20, &quot;n_fit_photons&quot;: 65, &quot;pflags&quot;: 0, &quot;rgt&quot;: 325, &quot;rms_misfit&quot;: 0.20407602247223217, &quot;segment_id&quot;: 1565356, &quot;spot&quot;: 2, &quot;time&quot;: &quot;2018-10-19&quot;, &quot;w_surface_window_final&quot;: 3.0}, &quot;type&quot;: &quot;Feature&quot;}, {&quot;bbox&quot;: [-100.94209365462089, -79.00104942913823, -100.94209365462089, -79.00104942913823], &quot;geometry&quot;: {&quot;coordinates&quot;: [-100.94209365462089, -79.00104942913823], &quot;type&quot;: &quot;Point&quot;}, &quot;id&quot;: &quot;21&quot;, &quot;properties&quot;: {&quot;cycle&quot;: 1, &quot;dh_fit_dx&quot;: 0.06489782643660054, &quot;dh_fit_dy&quot;: 0.0, &quot;distance&quot;: 31318165.597002406, &quot;gt&quot;: 10, &quot;h_mean&quot;: 1870.5539657756367, &quot;h_sigma&quot;: 0.7138667849245016, &quot;index&quot;: 21, &quot;n_fit_photons&quot;: 62, &quot;pflags&quot;: 0, &quot;rgt&quot;: 325, &quot;rms_misfit&quot;: 5.572152190986255, &quot;segment_id&quot;: 1565343, &quot;spot&quot;: 6, &quot;time&quot;: &quot;2018-10-19&quot;, &quot;w_surface_window_final&quot;: 21.06562988708786}, &quot;type&quot;: &quot;Feature&quot;}, {&quot;bbox&quot;: [-100.78847995598332, -78.99394831161932, -100.78847995598332, -78.99394831161932], &quot;geometry&quot;: {&quot;coordinates&quot;: [-100.78847995598332, -78.99394831161932], &quot;type&quot;: &quot;Point&quot;}, &quot;id&quot;: &quot;22&quot;, &quot;properties&quot;: {&quot;cycle&quot;: 1, &quot;dh_fit_dx&quot;: -0.004118221980817997, &quot;dh_fit_dy&quot;: 0.0, &quot;distance&quot;: 31318304.890002772, &quot;gt&quot;: 30, &quot;h_mean&quot;: 1874.114927612472, &quot;h_sigma&quot;: 0.05836417621953996, &quot;index&quot;: 22, &quot;n_fit_photons&quot;: 70, &quot;pflags&quot;: 4, &quot;rgt&quot;: 325, &quot;rms_misfit&quot;: 0.4877136137483986, &quot;segment_id&quot;: 1565350, &quot;spot&quot;: 4, &quot;time&quot;: &quot;2018-10-19&quot;, &quot;w_surface_window_final&quot;: 3.970378585345956}, &quot;type&quot;: &quot;Feature&quot;}, {&quot;bbox&quot;: [-100.63506209289945, -78.98676988470486, -100.63506209289945, -78.98676988470486], &quot;geometry&quot;: {&quot;coordinates&quot;: [-100.63506209289945, -78.98676988470486], &quot;type&quot;: &quot;Point&quot;}, &quot;id&quot;: &quot;23&quot;, &quot;properties&quot;: {&quot;cycle&quot;: 1, &quot;dh_fit_dx&quot;: -0.0007573229390307668, &quot;dh_fit_dy&quot;: 0.0, &quot;distance&quot;: 31318444.18301044, &quot;gt&quot;: 50, &quot;h_mean&quot;: 1875.840876596566, &quot;h_sigma&quot;: 0.023306853767456254, &quot;index&quot;: 23, &quot;n_fit_photons&quot;: 87, &quot;pflags&quot;: 0, &quot;rgt&quot;: 325, &quot;rms_misfit&quot;: 0.2173435727046234, &quot;segment_id&quot;: 1565357, &quot;spot&quot;: 2, &quot;time&quot;: &quot;2018-10-19&quot;, &quot;w_surface_window_final&quot;: 3.0}, &quot;type&quot;: &quot;Feature&quot;}, {&quot;bbox&quot;: [-100.94227496732512, -79.000874601023, -100.94227496732512, -79.000874601023], &quot;geometry&quot;: {&quot;coordinates&quot;: [-100.94227496732512, -79.000874601023], &quot;type&quot;: &quot;Point&quot;}, &quot;id&quot;: &quot;24&quot;, &quot;properties&quot;: {&quot;cycle&quot;: 1, &quot;dh_fit_dx&quot;: -0.11892988263679345, &quot;dh_fit_dy&quot;: 0.0, &quot;distance&quot;: 31318185.49600201, &quot;gt&quot;: 10, &quot;h_mean&quot;: 1869.8129360696862, &quot;h_sigma&quot;: 0.689543215525079, &quot;index&quot;: 24, &quot;n_fit_photons&quot;: 88, &quot;pflags&quot;: 0, &quot;rgt&quot;: 325, &quot;rms_misfit&quot;: 6.458700011007781, &quot;segment_id&quot;: 1565344, &quot;spot&quot;: 6, &quot;time&quot;: &quot;2018-10-19&quot;, &quot;w_surface_window_final&quot;: 29.381894307150006}, &quot;type&quot;: &quot;Feature&quot;}, {&quot;bbox&quot;: [-100.78866419118486, -78.99377358613661, -100.78866419118486, -78.99377358613661], &quot;geometry&quot;: {&quot;coordinates&quot;: [-100.78866419118486, -78.99377358613661], &quot;type&quot;: &quot;Point&quot;}, &quot;id&quot;: &quot;25&quot;, &quot;properties&quot;: {&quot;cycle&quot;: 1, &quot;dh_fit_dx&quot;: -0.04930973488031595, &quot;dh_fit_dy&quot;: 0.0, &quot;distance&quot;: 31318324.78900342, &quot;gt&quot;: 30, &quot;h_mean&quot;: 1873.2657837677148, &quot;h_sigma&quot;: 0.11217788030285256, &quot;index&quot;: 25, &quot;n_fit_photons&quot;: 15, &quot;pflags&quot;: 0, &quot;rgt&quot;: 325, &quot;rms_misfit&quot;: 0.2847612706238475, &quot;segment_id&quot;: 1565351, &quot;spot&quot;: 4, &quot;time&quot;: &quot;2018-10-19&quot;, &quot;w_surface_window_final&quot;: 3.0}, &quot;type&quot;: &quot;Feature&quot;}, {&quot;bbox&quot;: [-100.63524482634762, -78.98659509357977, -100.63524482634762, -78.98659509357977], &quot;geometry&quot;: {&quot;coordinates&quot;: [-100.63524482634762, -78.98659509357977], &quot;type&quot;: &quot;Point&quot;}, &quot;id&quot;: &quot;26&quot;, &quot;properties&quot;: {&quot;cycle&quot;: 1, &quot;dh_fit_dx&quot;: 0.0010281862941789882, &quot;dh_fit_dy&quot;: 0.0, &quot;distance&quot;: 31318464.08201213, &quot;gt&quot;: 50, &quot;h_mean&quot;: 1875.7550723709128, &quot;h_sigma&quot;: 0.04064644724894023, &quot;index&quot;: 26, &quot;n_fit_photons&quot;: 90, &quot;pflags&quot;: 4, &quot;rgt&quot;: 325, &quot;rms_misfit&quot;: 0.38557829694368995, &quot;segment_id&quot;: 1565358, &quot;spot&quot;: 2, &quot;time&quot;: &quot;2018-10-19&quot;, &quot;w_surface_window_final&quot;: 3.0}, &quot;type&quot;: &quot;Feature&quot;}, {&quot;bbox&quot;: [-100.94245534595221, -79.0006997376683, -100.94245534595221, -79.0006997376683], &quot;geometry&quot;: {&quot;coordinates&quot;: [-100.94245534595221, -79.0006997376683], &quot;type&quot;: &quot;Point&quot;}, &quot;id&quot;: &quot;27&quot;, &quot;properties&quot;: {&quot;cycle&quot;: 1, &quot;dh_fit_dx&quot;: 0.0025370215332371784, &quot;dh_fit_dy&quot;: 0.0, &quot;distance&quot;: 31318205.395001765, &quot;gt&quot;: 10, &quot;h_mean&quot;: 1871.0954725817817, &quot;h_sigma&quot;: 0.07599974503070754, &quot;index&quot;: 27, &quot;n_fit_photons&quot;: 36, &quot;pflags&quot;: 0, &quot;rgt&quot;: 325, &quot;rms_misfit&quot;: 0.4496833047054977, &quot;segment_id&quot;: 1565345, &quot;spot&quot;: 6, &quot;time&quot;: &quot;2018-10-19&quot;, &quot;w_surface_window_final&quot;: 3.0}, &quot;type&quot;: &quot;Feature&quot;}, {&quot;bbox&quot;: [-100.78884821672014, -78.99359885393359, -100.78884821672014, -78.99359885393359], &quot;geometry&quot;: {&quot;coordinates&quot;: [-100.78884821672014, -78.99359885393359], &quot;type&quot;: &quot;Point&quot;}, &quot;id&quot;: &quot;28&quot;, &quot;properties&quot;: {&quot;cycle&quot;: 1, &quot;dh_fit_dx&quot;: 0.003282121969478211, &quot;dh_fit_dy&quot;: 0.0, &quot;distance&quot;: 31318344.688004218, &quot;gt&quot;: 30, &quot;h_mean&quot;: 1873.9942219535285, &quot;h_sigma&quot;: 0.03127353722992504, &quot;index&quot;: 28, &quot;n_fit_photons&quot;: 83, &quot;pflags&quot;: 0, &quot;rgt&quot;: 325, &quot;rms_misfit&quot;: 0.28370083001805146, &quot;segment_id&quot;: 1565352, &quot;spot&quot;: 4, &quot;time&quot;: &quot;2018-10-19&quot;, &quot;w_surface_window_final&quot;: 3.0}, &quot;type&quot;: &quot;Feature&quot;}, {&quot;bbox&quot;: [-100.63542714994745, -78.98642028635697, -100.63542714994745, -78.98642028635697], &quot;geometry&quot;: {&quot;coordinates&quot;: [-100.63542714994745, -78.98642028635697], &quot;type&quot;: &quot;Point&quot;}, &quot;id&quot;: &quot;29&quot;, &quot;properties&quot;: {&quot;cycle&quot;: 1, &quot;dh_fit_dx&quot;: -0.0551520852500177, &quot;dh_fit_dy&quot;: 0.0, &quot;distance&quot;: 31318483.981013972, &quot;gt&quot;: 50, &quot;h_mean&quot;: 1874.991421513761, &quot;h_sigma&quot;: 0.08836128148685711, &quot;index&quot;: 29, &quot;n_fit_photons&quot;: 37, &quot;pflags&quot;: 0, &quot;rgt&quot;: 325, &quot;rms_misfit&quot;: 0.4049911277905729, &quot;segment_id&quot;: 1565359, &quot;spot&quot;: 2, &quot;time&quot;: &quot;2018-10-19&quot;, &quot;w_surface_window_final&quot;: 3.0}, &quot;type&quot;: &quot;Feature&quot;}, {&quot;bbox&quot;: [-100.94263397054134, -79.00052480814938, -100.94263397054134, -79.00052480814938], &quot;geometry&quot;: {&quot;coordinates&quot;: [-100.94263397054134, -79.00052480814938], &quot;type&quot;: &quot;Point&quot;}, &quot;id&quot;: &quot;30&quot;, &quot;properties&quot;: {&quot;cycle&quot;: 1, &quot;dh_fit_dx&quot;: 0.024342964232492083, &quot;dh_fit_dy&quot;: 0.0, &quot;distance&quot;: 31318225.29400167, &quot;gt&quot;: 10, &quot;h_mean&quot;: 1871.019163018047, &quot;h_sigma&quot;: 0.282960359901167, &quot;index&quot;: 30, &quot;n_fit_photons&quot;: 58, &quot;pflags&quot;: 4, &quot;rgt&quot;: 325, &quot;rms_misfit&quot;: 2.1534579390213624, &quot;segment_id&quot;: 1565346, &quot;spot&quot;: 6, &quot;time&quot;: &quot;2018-10-19&quot;, &quot;w_surface_window_final&quot;: 9.4921875}, &quot;type&quot;: &quot;Feature&quot;}, {&quot;bbox&quot;: [-100.78903100596598, -78.9934240741356, -100.78903100596598, -78.9934240741356], &quot;geometry&quot;: {&quot;coordinates&quot;: [-100.78903100596598, -78.9934240741356], &quot;type&quot;: &quot;Point&quot;}, &quot;id&quot;: &quot;31&quot;, &quot;properties&quot;: {&quot;cycle&quot;: 1, &quot;dh_fit_dx&quot;: -0.0028271820045435597, &quot;dh_fit_dy&quot;: 0.0, &quot;distance&quot;: 31318364.587005164, &quot;gt&quot;: 30, &quot;h_mean&quot;: 1873.9894885017964, &quot;h_sigma&quot;: 0.026503030046553043, &quot;index&quot;: 31, &quot;n_fit_photons&quot;: 76, &quot;pflags&quot;: 0, &quot;rgt&quot;: 325, &quot;rms_misfit&quot;: 0.22904287861397776, &quot;segment_id&quot;: 1565353, &quot;spot&quot;: 4, &quot;time&quot;: &quot;2018-10-19&quot;, &quot;w_surface_window_final&quot;: 3.0}, &quot;type&quot;: &quot;Feature&quot;}, {&quot;bbox&quot;: [-100.63561032502378, -78.98624551236507, -100.63561032502378, -78.98624551236507], &quot;geometry&quot;: {&quot;coordinates&quot;: [-100.63561032502378, -78.98624551236507], &quot;type&quot;: &quot;Point&quot;}, &quot;id&quot;: &quot;32&quot;, &quot;properties&quot;: {&quot;cycle&quot;: 1, &quot;dh_fit_dx&quot;: 0.01707093305775969, &quot;dh_fit_dy&quot;: 0.0, &quot;distance&quot;: 31318503.88001596, &quot;gt&quot;: 50, &quot;h_mean&quot;: 1875.7432101824697, &quot;h_sigma&quot;: 0.04146776388137765, &quot;index&quot;: 32, &quot;n_fit_photons&quot;: 73, &quot;pflags&quot;: 0, &quot;rgt&quot;: 325, &quot;rms_misfit&quot;: 0.32054719948321936, &quot;segment_id&quot;: 1565360, &quot;spot&quot;: 2, &quot;time&quot;: &quot;2018-10-19&quot;, &quot;w_surface_window_final&quot;: 3.0}, &quot;type&quot;: &quot;Feature&quot;}, {&quot;bbox&quot;: [-100.94281144870938, -79.00034983568705, -100.94281144870938, -79.00034983568705], &quot;geometry&quot;: {&quot;coordinates&quot;: [-100.94281144870938, -79.00034983568705], &quot;type&quot;: &quot;Point&quot;}, &quot;id&quot;: &quot;33&quot;, &quot;properties&quot;: {&quot;cycle&quot;: 1, &quot;dh_fit_dx&quot;: -0.11661534059311761, &quot;dh_fit_dy&quot;: 0.0, &quot;distance&quot;: 31318245.19300172, &quot;gt&quot;: 10, &quot;h_mean&quot;: 1870.1074370381295, &quot;h_sigma&quot;: 0.18845157267757237, &quot;index&quot;: 33, &quot;n_fit_photons&quot;: 33, &quot;pflags&quot;: 0, &quot;rgt&quot;: 325, &quot;rms_misfit&quot;: 1.045818352563494, &quot;segment_id&quot;: 1565347, &quot;spot&quot;: 6, &quot;time&quot;: &quot;2018-10-19&quot;, &quot;w_surface_window_final&quot;: 7.846335398149742}, &quot;type&quot;: &quot;Feature&quot;}, {&quot;bbox&quot;: [-100.78921321465148, -78.99324927103645, -100.78921321465148, -78.99324927103645], &quot;geometry&quot;: {&quot;coordinates&quot;: [-100.78921321465148, -78.99324927103645], &quot;type&quot;: &quot;Point&quot;}, &quot;id&quot;: &quot;34&quot;, &quot;properties&quot;: {&quot;cycle&quot;: 1, &quot;dh_fit_dx&quot;: -0.002476850074770127, &quot;dh_fit_dy&quot;: 0.0, &quot;distance&quot;: 31318384.48600626, &quot;gt&quot;: 30, &quot;h_mean&quot;: 1873.8334831709058, &quot;h_sigma&quot;: 0.08776367928389069, &quot;index&quot;: 34, &quot;n_fit_photons&quot;: 80, &quot;pflags&quot;: 4, &quot;rgt&quot;: 325, &quot;rms_misfit&quot;: 0.7745330983152842, &quot;segment_id&quot;: 1565354, &quot;spot&quot;: 4, &quot;time&quot;: &quot;2018-10-19&quot;, &quot;w_surface_window_final&quot;: 5.0097907178544325}, &quot;type&quot;: &quot;Feature&quot;}, {&quot;bbox&quot;: [-100.63579369670691, -78.98607074733596, -100.63579369670691, -78.98607074733596], &quot;geometry&quot;: {&quot;coordinates&quot;: [-100.63579369670691, -78.98607074733596], &quot;type&quot;: &quot;Point&quot;}, &quot;id&quot;: &quot;35&quot;, &quot;properties&quot;: {&quot;cycle&quot;: 1, &quot;dh_fit_dx&quot;: 0.007137363227544392, &quot;dh_fit_dy&quot;: 0.0, &quot;distance&quot;: 31318523.7790181, &quot;gt&quot;: 50, &quot;h_mean&quot;: 1875.8171851265106, &quot;h_sigma&quot;: 0.041625631345336256, &quot;index&quot;: 35, &quot;n_fit_photons&quot;: 80, &quot;pflags&quot;: 0, &quot;rgt&quot;: 325, &quot;rms_misfit&quot;: 0.35463913341795156, &quot;segment_id&quot;: 1565361, &quot;spot&quot;: 2, &quot;time&quot;: &quot;2018-10-19&quot;, &quot;w_surface_window_final&quot;: 3.0}, &quot;type&quot;: &quot;Feature&quot;}, {&quot;bbox&quot;: [-100.942989171836, -79.00017487257404, -100.942989171836, -79.00017487257404], &quot;geometry&quot;: {&quot;coordinates&quot;: [-100.942989171836, -79.00017487257404], &quot;type&quot;: &quot;Point&quot;}, &quot;id&quot;: &quot;36&quot;, &quot;properties&quot;: {&quot;cycle&quot;: 1, &quot;dh_fit_dx&quot;: -0.015471007677448653, &quot;dh_fit_dy&quot;: 0.0, &quot;distance&quot;: 31318265.092001922, &quot;gt&quot;: 10, &quot;h_mean&quot;: 1867.8170125617714, &quot;h_sigma&quot;: 0.0, &quot;index&quot;: 36, &quot;n_fit_photons&quot;: 195, &quot;pflags&quot;: 2, &quot;rgt&quot;: 325, &quot;rms_misfit&quot;: 0.0, &quot;segment_id&quot;: 1565348, &quot;spot&quot;: 6, &quot;time&quot;: &quot;2018-10-19&quot;, &quot;w_surface_window_final&quot;: 3.0}, &quot;type&quot;: &quot;Feature&quot;}, {&quot;bbox&quot;: [-100.78939530019755, -78.99307446470668, -100.78939530019755, -78.99307446470668], &quot;geometry&quot;: {&quot;coordinates&quot;: [-100.78939530019755, -78.99307446470668], &quot;type&quot;: &quot;Point&quot;}, &quot;id&quot;: &quot;37&quot;, &quot;properties&quot;: {&quot;cycle&quot;: 1, &quot;dh_fit_dx&quot;: -0.008409875496191078, &quot;dh_fit_dy&quot;: 0.0, &quot;distance&quot;: 31318404.385007504, &quot;gt&quot;: 30, &quot;h_mean&quot;: 1873.7289580748693, &quot;h_sigma&quot;: 0.07266829836859198, &quot;index&quot;: 37, &quot;n_fit_photons&quot;: 79, &quot;pflags&quot;: 4, &quot;rgt&quot;: 325, &quot;rms_misfit&quot;: 0.6390425742258685, &quot;segment_id&quot;: 1565355, &quot;spot&quot;: 4, &quot;time&quot;: &quot;2018-10-19&quot;, &quot;w_surface_window_final&quot;: 3.958958090565245}, &quot;type&quot;: &quot;Feature&quot;}, {&quot;bbox&quot;: [-100.6359779931904, -78.98589601707094, -100.6359779931904, -78.98589601707094], &quot;geometry&quot;: {&quot;coordinates&quot;: [-100.6359779931904, -78.98589601707094], &quot;type&quot;: &quot;Point&quot;}, &quot;id&quot;: &quot;38&quot;, &quot;properties&quot;: {&quot;cycle&quot;: 1, &quot;dh_fit_dx&quot;: -0.0028571455143197983, &quot;dh_fit_dy&quot;: 0.0, &quot;distance&quot;: 31318543.67802039, &quot;gt&quot;: 50, &quot;h_mean&quot;: 1875.8550527610769, &quot;h_sigma&quot;: 0.03787919274180721, &quot;index&quot;: 38, &quot;n_fit_photons&quot;: 94, &quot;pflags&quot;: 0, &quot;rgt&quot;: 325, &quot;rms_misfit&quot;: 0.36700612083125095, &quot;segment_id&quot;: 1565362, &quot;spot&quot;: 2, &quot;time&quot;: &quot;2018-10-19&quot;, &quot;w_surface_window_final&quot;: 3.0}, &quot;type&quot;: &quot;Feature&quot;}, {&quot;bbox&quot;: [-100.94316709305949, -78.99999991686799, -100.94316709305949, -78.99999991686799], &quot;geometry&quot;: {&quot;coordinates&quot;: [-100.94316709305949, -78.99999991686799], &quot;type&quot;: &quot;Point&quot;}, &quot;id&quot;: &quot;39&quot;, &quot;properties&quot;: {&quot;cycle&quot;: 1, &quot;dh_fit_dx&quot;: -0.10341691971591796, &quot;dh_fit_dy&quot;: 0.0, &quot;distance&quot;: 31318284.991002273, &quot;gt&quot;: 10, &quot;h_mean&quot;: 1869.9850352792416, &quot;h_sigma&quot;: 0.20747155923406332, &quot;index&quot;: 39, &quot;n_fit_photons&quot;: 54, &quot;pflags&quot;: 4, &quot;rgt&quot;: 325, &quot;rms_misfit&quot;: 1.1438327165046744, &quot;segment_id&quot;: 1565349, &quot;spot&quot;: 6, &quot;time&quot;: &quot;2018-10-19&quot;, &quot;w_surface_window_final&quot;: 6.079430986365825}, &quot;type&quot;: &quot;Feature&quot;}, {&quot;bbox&quot;: [-100.78957747929813, -78.99289966131913, -100.78957747929813, -78.99289966131913], &quot;geometry&quot;: {&quot;coordinates&quot;: [-100.78957747929813, -78.99289966131913], &quot;type&quot;: &quot;Point&quot;}, &quot;id&quot;: &quot;40&quot;, &quot;properties&quot;: {&quot;cycle&quot;: 1, &quot;dh_fit_dx&quot;: 0.005598364475377973, &quot;dh_fit_dy&quot;: 0.0, &quot;distance&quot;: 31318424.284008898, &quot;gt&quot;: 30, &quot;h_mean&quot;: 1873.8673152163728, &quot;h_sigma&quot;: 0.04186702906895921, &quot;index&quot;: 40, &quot;n_fit_photons&quot;: 72, &quot;pflags&quot;: 0, &quot;rgt&quot;: 325, &quot;rms_misfit&quot;: 0.3552199926220937, &quot;segment_id&quot;: 1565356, &quot;spot&quot;: 4, &quot;time&quot;: &quot;2018-10-19&quot;, &quot;w_surface_window_final&quot;: 3.1428385121921583}, &quot;type&quot;: &quot;Feature&quot;}, {&quot;bbox&quot;: [-100.63616323799279, -78.98572132378759, -100.63616323799279, -78.98572132378759], &quot;geometry&quot;: {&quot;coordinates&quot;: [-100.63616323799279, -78.98572132378759], &quot;type&quot;: &quot;Point&quot;}, &quot;id&quot;: &quot;41&quot;, &quot;properties&quot;: {&quot;cycle&quot;: 1, &quot;dh_fit_dx&quot;: 0.004567016861487032, &quot;dh_fit_dy&quot;: 0.0, &quot;distance&quot;: 31318563.57702283, &quot;gt&quot;: 50, &quot;h_mean&quot;: 1875.839722147026, &quot;h_sigma&quot;: 0.03581468206076469, &quot;index&quot;: 41, &quot;n_fit_photons&quot;: 95, &quot;pflags&quot;: 0, &quot;rgt&quot;: 325, &quot;rms_misfit&quot;: 0.3466546954478622, &quot;segment_id&quot;: 1565363, &quot;spot&quot;: 2, &quot;time&quot;: &quot;2018-10-19&quot;, &quot;w_surface_window_final&quot;: 3.0}, &quot;type&quot;: &quot;Feature&quot;}, {&quot;bbox&quot;: [-100.94334659502681, -78.99982502128023, -100.94334659502681, -78.99982502128023], &quot;geometry&quot;: {&quot;coordinates&quot;: [-100.94334659502681, -78.99982502128023], &quot;type&quot;: &quot;Point&quot;}, &quot;id&quot;: &quot;42&quot;, &quot;properties&quot;: {&quot;cycle&quot;: 1, &quot;dh_fit_dx&quot;: -0.05954291857901705, &quot;dh_fit_dy&quot;: 0.0, &quot;distance&quot;: 31318304.890002772, &quot;gt&quot;: 10, &quot;h_mean&quot;: 1866.0808921696978, &quot;h_sigma&quot;: 0.0, &quot;index&quot;: 42, &quot;n_fit_photons&quot;: 199, &quot;pflags&quot;: 2, &quot;rgt&quot;: 325, &quot;rms_misfit&quot;: 0.0, &quot;segment_id&quot;: 1565350, &quot;spot&quot;: 6, &quot;time&quot;: &quot;2018-10-19&quot;, &quot;w_surface_window_final&quot;: 5.014720537295542}, &quot;type&quot;: &quot;Feature&quot;}, {&quot;bbox&quot;: [-100.63634961125874, -78.98554667405912, -100.63634961125874, -78.98554667405912], &quot;geometry&quot;: {&quot;coordinates&quot;: [-100.63634961125874, -78.98554667405912], &quot;type&quot;: &quot;Point&quot;}, &quot;id&quot;: &quot;43&quot;, &quot;properties&quot;: {&quot;cycle&quot;: 1, &quot;dh_fit_dx&quot;: 0.0002857643931784028, &quot;dh_fit_dy&quot;: 0.0, &quot;distance&quot;: 31318583.476025417, &quot;gt&quot;: 50, &quot;h_mean&quot;: 1875.908673998327, &quot;h_sigma&quot;: 0.02263678353648522, &quot;index&quot;: 43, &quot;n_fit_photons&quot;: 101, &quot;pflags&quot;: 0, &quot;rgt&quot;: 325, &quot;rms_misfit&quot;: 0.22710134068094762, &quot;segment_id&quot;: 1565364, &quot;spot&quot;: 2, &quot;time&quot;: &quot;2018-10-19&quot;, &quot;w_surface_window_final&quot;: 3.0}, &quot;type&quot;: &quot;Feature&quot;}, {&quot;bbox&quot;: [-100.78975983206166, -78.99272486488178, -100.78975983206166, -78.99272486488178], &quot;geometry&quot;: {&quot;coordinates&quot;: [-100.78975983206166, -78.99272486488178], &quot;type&quot;: &quot;Point&quot;}, &quot;id&quot;: &quot;44&quot;, &quot;properties&quot;: {&quot;cycle&quot;: 1, &quot;dh_fit_dx&quot;: 0.010844705527191287, &quot;dh_fit_dy&quot;: 0.0, &quot;distance&quot;: 31318444.18301044, &quot;gt&quot;: 30, &quot;h_mean&quot;: 1873.9199881475724, &quot;h_sigma&quot;: 0.05844579099143813, &quot;index&quot;: 44, &quot;n_fit_photons&quot;: 87, &quot;pflags&quot;: 0, &quot;rgt&quot;: 325, &quot;rms_misfit&quot;: 0.5447669063974334, &quot;segment_id&quot;: 1565357, &quot;spot&quot;: 4, &quot;time&quot;: &quot;2018-10-19&quot;, &quot;w_surface_window_final&quot;: 6.122397446540845}, &quot;type&quot;: &quot;Feature&quot;}, {&quot;bbox&quot;: [-100.94352688338655, -78.99965015513469, -100.94352688338655, -78.99965015513469], &quot;geometry&quot;: {&quot;coordinates&quot;: [-100.94352688338655, -78.99965015513469], &quot;type&quot;: &quot;Point&quot;}, &quot;id&quot;: &quot;45&quot;, &quot;properties&quot;: {&quot;cycle&quot;: 1, &quot;dh_fit_dx&quot;: 0.03216445383142637, &quot;dh_fit_dy&quot;: 0.0, &quot;distance&quot;: 31318324.78900342, &quot;gt&quot;: 10, &quot;h_mean&quot;: 1866.8024807501063, &quot;h_sigma&quot;: 0.0, &quot;index&quot;: 45, &quot;n_fit_photons&quot;: 179, &quot;pflags&quot;: 2, &quot;rgt&quot;: 325, &quot;rms_misfit&quot;: 0.0, &quot;segment_id&quot;: 1565351, &quot;spot&quot;: 6, &quot;time&quot;: &quot;2018-10-19&quot;, &quot;w_surface_window_final&quot;: 3.0}, &quot;type&quot;: &quot;Feature&quot;}, {&quot;bbox&quot;: [-100.63653687768243, -78.98537205927262, -100.63653687768243, -78.98537205927262], &quot;geometry&quot;: {&quot;coordinates&quot;: [-100.63653687768243, -78.98537205927262], &quot;type&quot;: &quot;Point&quot;}, &quot;id&quot;: &quot;46&quot;, &quot;properties&quot;: {&quot;cycle&quot;: 1, &quot;dh_fit_dx&quot;: -0.002127145761420209, &quot;dh_fit_dy&quot;: 0.0, &quot;distance&quot;: 31318603.375028156, &quot;gt&quot;: 50, &quot;h_mean&quot;: 1875.8399196060107, &quot;h_sigma&quot;: 0.032368385024775986, &quot;index&quot;: 46, &quot;n_fit_photons&quot;: 96, &quot;pflags&quot;: 0, &quot;rgt&quot;: 325, &quot;rms_misfit&quot;: 0.31496666329100487, &quot;segment_id&quot;: 1565365, &quot;spot&quot;: 2, &quot;time&quot;: &quot;2018-10-19&quot;, &quot;w_surface_window_final&quot;: 3.0}, &quot;type&quot;: &quot;Feature&quot;}, {&quot;bbox&quot;: [-100.78994244515671, -78.99255007903287, -100.78994244515671, -78.99255007903287], &quot;geometry&quot;: {&quot;coordinates&quot;: [-100.78994244515671, -78.99255007903287], &quot;type&quot;: &quot;Point&quot;}, &quot;id&quot;: &quot;47&quot;, &quot;properties&quot;: {&quot;cycle&quot;: 1, &quot;dh_fit_dx&quot;: -0.0012754978616258486, &quot;dh_fit_dy&quot;: 0.0, &quot;distance&quot;: 31318464.08201213, &quot;gt&quot;: 30, &quot;h_mean&quot;: 1873.9612452287138, &quot;h_sigma&quot;: 0.054727856630136594, &quot;index&quot;: 47, &quot;n_fit_photons&quot;: 89, &quot;pflags&quot;: 4, &quot;rgt&quot;: 325, &quot;rms_misfit&quot;: 0.5161662274383139, &quot;segment_id&quot;: 1565358, &quot;spot&quot;: 4, &quot;time&quot;: &quot;2018-10-19&quot;, &quot;w_surface_window_final&quot;: 3.685583392251897}, &quot;type&quot;: &quot;Feature&quot;}, {&quot;bbox&quot;: [-100.9437081253888, -78.99947532501601, -100.9437081253888, -78.99947532501601], &quot;geometry&quot;: {&quot;coordinates&quot;: [-100.9437081253888, -78.99947532501601], &quot;type&quot;: &quot;Point&quot;}, &quot;id&quot;: &quot;48&quot;, &quot;properties&quot;: {&quot;cycle&quot;: 1, &quot;dh_fit_dx&quot;: -0.0031012578411041595, &quot;dh_fit_dy&quot;: 0.0, &quot;distance&quot;: 31318344.688004218, &quot;gt&quot;: 10, &quot;h_mean&quot;: 1870.9365366137642, &quot;h_sigma&quot;: 0.036032485447342624, &quot;index&quot;: 48, &quot;n_fit_photons&quot;: 53, &quot;pflags&quot;: 0, &quot;rgt&quot;: 325, &quot;rms_misfit&quot;: 0.259545849404715, &quot;segment_id&quot;: 1565352, &quot;spot&quot;: 6, &quot;time&quot;: &quot;2018-10-19&quot;, &quot;w_surface_window_final&quot;: 3.0}, &quot;type&quot;: &quot;Feature&quot;}, {&quot;bbox&quot;: [-100.63672560494659, -78.9851975009372, -100.63672560494659, -78.9851975009372], &quot;geometry&quot;: {&quot;coordinates&quot;: [-100.63672560494659, -78.9851975009372], &quot;type&quot;: &quot;Point&quot;}, &quot;id&quot;: &quot;49&quot;, &quot;properties&quot;: {&quot;cycle&quot;: 1, &quot;dh_fit_dx&quot;: 0.0037611397175001835, &quot;dh_fit_dy&quot;: 0.0, &quot;distance&quot;: 31318623.274031043, &quot;gt&quot;: 50, &quot;h_mean&quot;: 1875.8064164133948, &quot;h_sigma&quot;: 0.10505394360064503, &quot;index&quot;: 49, &quot;n_fit_photons&quot;: 90, &quot;pflags&quot;: 0, &quot;rgt&quot;: 325, &quot;rms_misfit&quot;: 0.9944381532063316, &quot;segment_id&quot;: 1565366, &quot;spot&quot;: 2, &quot;time&quot;: &quot;2018-10-19&quot;, &quot;w_surface_window_final&quot;: 9.45345621944209}, &quot;type&quot;: &quot;Feature&quot;}, {&quot;bbox&quot;: [-100.79012591915667, -78.99237532754324, -100.79012591915667, -78.99237532754324], &quot;geometry&quot;: {&quot;coordinates&quot;: [-100.79012591915667, -78.99237532754324], &quot;type&quot;: &quot;Point&quot;}, &quot;id&quot;: &quot;50&quot;, &quot;properties&quot;: {&quot;cycle&quot;: 1, &quot;dh_fit_dx&quot;: 0.11957927706894707, &quot;dh_fit_dy&quot;: 0.0, &quot;distance&quot;: 31318483.981013972, &quot;gt&quot;: 30, &quot;h_mean&quot;: 1875.9022707133909, &quot;h_sigma&quot;: 0.3015615093505047, &quot;index&quot;: 50, &quot;n_fit_photons&quot;: 27, &quot;pflags&quot;: 0, &quot;rgt&quot;: 325, &quot;rms_misfit&quot;: 0.8562231842107929, &quot;segment_id&quot;: 1565359, &quot;spot&quot;: 4, &quot;time&quot;: &quot;2018-10-19&quot;, &quot;w_surface_window_final&quot;: 4.4685388933939}, &quot;type&quot;: &quot;Feature&quot;}, {&quot;bbox&quot;: [-100.94389248916063, -78.99930061219007, -100.94389248916063, -78.99930061219007], &quot;geometry&quot;: {&quot;coordinates&quot;: [-100.94389248916063, -78.99930061219007], &quot;type&quot;: &quot;Point&quot;}, &quot;id&quot;: &quot;51&quot;, &quot;properties&quot;: {&quot;cycle&quot;: 1, &quot;dh_fit_dx&quot;: 0.09649452411249727, &quot;dh_fit_dy&quot;: 0.0, &quot;distance&quot;: 31318364.587005164, &quot;gt&quot;: 10, &quot;h_mean&quot;: 1872.205041285209, &quot;h_sigma&quot;: 0.13441537345268678, &quot;index&quot;: 51, &quot;n_fit_photons&quot;: 35, &quot;pflags&quot;: 0, &quot;rgt&quot;: 325, &quot;rms_misfit&quot;: 0.5988306136246216, &quot;segment_id&quot;: 1565353, &quot;spot&quot;: 6, &quot;time&quot;: &quot;2018-10-19&quot;, &quot;w_surface_window_final&quot;: 3.527910759612125}, &quot;type&quot;: &quot;Feature&quot;}, {&quot;bbox&quot;: [-100.63691577715035, -78.98502299820642, -100.63691577715035, -78.98502299820642], &quot;geometry&quot;: {&quot;coordinates&quot;: [-100.63691577715035, -78.98502299820642], &quot;type&quot;: &quot;Point&quot;}, &quot;id&quot;: &quot;52&quot;, &quot;properties&quot;: {&quot;cycle&quot;: 1, &quot;dh_fit_dx&quot;: -0.04328354425021256, &quot;dh_fit_dy&quot;: 0.0, &quot;distance&quot;: 31318643.17303408, &quot;gt&quot;: 50, &quot;h_mean&quot;: 1875.1817977142725, &quot;h_sigma&quot;: 0.0732778870932537, &quot;index&quot;: 52, &quot;n_fit_photons&quot;: 23, &quot;pflags&quot;: 0, &quot;rgt&quot;: 325, &quot;rms_misfit&quot;: 0.21252272938650826, &quot;segment_id&quot;: 1565367, &quot;spot&quot;: 2, &quot;time&quot;: &quot;2018-10-19&quot;, &quot;w_surface_window_final&quot;: 3.0}, &quot;type&quot;: &quot;Feature&quot;}, {&quot;bbox&quot;: [-100.79030948299747, -78.99220057657068, -100.79030948299747, -78.99220057657068], &quot;geometry&quot;: {&quot;coordinates&quot;: [-100.79030948299747, -78.99220057657068], &quot;type&quot;: &quot;Point&quot;}, &quot;id&quot;: &quot;53&quot;, &quot;properties&quot;: {&quot;cycle&quot;: 1, &quot;dh_fit_dx&quot;: -0.012445771592666629, &quot;dh_fit_dy&quot;: 0.0, &quot;distance&quot;: 31318503.88001596, &quot;gt&quot;: 30, &quot;h_mean&quot;: 1873.8485191352036, &quot;h_sigma&quot;: 0.04037026761982368, &quot;index&quot;: 53, &quot;n_fit_photons&quot;: 60, &quot;pflags&quot;: 0, &quot;rgt&quot;: 325, &quot;rms_misfit&quot;: 0.28730599756080943, &quot;segment_id&quot;: 1565360, &quot;spot&quot;: 4, &quot;time&quot;: &quot;2018-10-19&quot;, &quot;w_surface_window_final&quot;: 3.53685528734785}, &quot;type&quot;: &quot;Feature&quot;}, {&quot;bbox&quot;: [-100.94407926790902, -78.9991259912435, -100.94407926790902, -78.9991259912435], &quot;geometry&quot;: {&quot;coordinates&quot;: [-100.94407926790902, -78.9991259912435], &quot;type&quot;: &quot;Point&quot;}, &quot;id&quot;: &quot;54&quot;, &quot;properties&quot;: {&quot;cycle&quot;: 1, &quot;dh_fit_dx&quot;: 0.019585295760252596, &quot;dh_fit_dy&quot;: 0.0, &quot;distance&quot;: 31318384.48600626, &quot;gt&quot;: 10, &quot;h_mean&quot;: 1871.1506193713833, &quot;h_sigma&quot;: 0.07032039759191158, &quot;index&quot;: 54, &quot;n_fit_photons&quot;: 32, &quot;pflags&quot;: 0, &quot;rgt&quot;: 325, &quot;rms_misfit&quot;: 0.3202554725877171, &quot;segment_id&quot;: 1565354, &quot;spot&quot;: 6, &quot;time&quot;: &quot;2018-10-19&quot;, &quot;w_surface_window_final&quot;: 3.0}, &quot;type&quot;: &quot;Feature&quot;}, {&quot;bbox&quot;: [-100.63710739707766, -78.98484855408772, -100.63710739707766, -78.98484855408772], &quot;geometry&quot;: {&quot;coordinates&quot;: [-100.63710739707766, -78.98484855408772], &quot;type&quot;: &quot;Point&quot;}, &quot;id&quot;: &quot;55&quot;, &quot;properties&quot;: {&quot;cycle&quot;: 1, &quot;dh_fit_dx&quot;: 0.0018878282534452453, &quot;dh_fit_dy&quot;: 0.0, &quot;distance&quot;: 31318663.072037265, &quot;gt&quot;: 50, &quot;h_mean&quot;: 1875.9114521180265, &quot;h_sigma&quot;: 0.036757150557396916, &quot;index&quot;: 55, &quot;n_fit_photons&quot;: 84, &quot;pflags&quot;: 4, &quot;rgt&quot;: 325, &quot;rms_misfit&quot;: 0.3364453508856395, &quot;segment_id&quot;: 1565368, &quot;spot&quot;: 2, &quot;time&quot;: &quot;2018-10-19&quot;, &quot;w_surface_window_final&quot;: 3.0}, &quot;type&quot;: &quot;Feature&quot;}, {&quot;bbox&quot;: [-100.79049450773643, -78.99202588237486, -100.79049450773643, -78.99202588237486], &quot;geometry&quot;: {&quot;coordinates&quot;: [-100.79049450773643, -78.99202588237486], &quot;type&quot;: &quot;Point&quot;}, &quot;id&quot;: &quot;56&quot;, &quot;properties&quot;: {&quot;cycle&quot;: 1, &quot;dh_fit_dx&quot;: 0.03196625074798625, &quot;dh_fit_dy&quot;: 0.0, &quot;distance&quot;: 31318523.7790181, &quot;gt&quot;: 30, &quot;h_mean&quot;: 1876.103772148735, &quot;h_sigma&quot;: 0.0, &quot;index&quot;: 56, &quot;n_fit_photons&quot;: 142, &quot;pflags&quot;: 2, &quot;rgt&quot;: 325, &quot;rms_misfit&quot;: 0.0, &quot;segment_id&quot;: 1565361, &quot;spot&quot;: 4, &quot;time&quot;: &quot;2018-10-19&quot;, &quot;w_surface_window_final&quot;: 3.0}, &quot;type&quot;: &quot;Feature&quot;}, {&quot;bbox&quot;: [-100.9442663925819, -78.9989513832374, -100.9442663925819, -78.9989513832374], &quot;geometry&quot;: {&quot;coordinates&quot;: [-100.9442663925819, -78.9989513832374], &quot;type&quot;: &quot;Point&quot;}, &quot;id&quot;: &quot;57&quot;, &quot;properties&quot;: {&quot;cycle&quot;: 1, &quot;dh_fit_dx&quot;: -0.0024252795841737712, &quot;dh_fit_dy&quot;: 0.0, &quot;distance&quot;: 31318404.385007504, &quot;gt&quot;: 10, &quot;h_mean&quot;: 1870.7437341815887, &quot;h_sigma&quot;: 0.07222830736841135, &quot;index&quot;: 57, &quot;n_fit_photons&quot;: 54, &quot;pflags&quot;: 4, &quot;rgt&quot;: 325, &quot;rms_misfit&quot;: 0.5203456675612699, &quot;segment_id&quot;: 1565355, &quot;spot&quot;: 6, &quot;time&quot;: &quot;2018-10-19&quot;, &quot;w_surface_window_final&quot;: 3.0}, &quot;type&quot;: &quot;Feature&quot;}, {&quot;bbox&quot;: [-100.63729826448628, -78.98467407918245, -100.63729826448628, -78.98467407918245], &quot;geometry&quot;: {&quot;coordinates&quot;: [-100.63729826448628, -78.98467407918245], &quot;type&quot;: &quot;Point&quot;}, &quot;id&quot;: &quot;58&quot;, &quot;properties&quot;: {&quot;cycle&quot;: 1, &quot;dh_fit_dx&quot;: 0.016588558633418123, &quot;dh_fit_dy&quot;: 0.0, &quot;distance&quot;: 31318682.9710406, &quot;gt&quot;: 50, &quot;h_mean&quot;: 1875.9780448009851, &quot;h_sigma&quot;: 0.08304162251533909, &quot;index&quot;: 58, &quot;n_fit_photons&quot;: 95, &quot;pflags&quot;: 4, &quot;rgt&quot;: 325, &quot;rms_misfit&quot;: 0.8093252747544806, &quot;segment_id&quot;: 1565369, &quot;spot&quot;: 2, &quot;time&quot;: &quot;2018-10-19&quot;, &quot;w_surface_window_final&quot;: 5.011445263428664}, &quot;type&quot;: &quot;Feature&quot;}, {&quot;bbox&quot;: [-100.79067910110065, -78.99185117152926, -100.79067910110065, -78.99185117152926], &quot;geometry&quot;: {&quot;coordinates&quot;: [-100.79067910110065, -78.99185117152926], &quot;type&quot;: &quot;Point&quot;}, &quot;id&quot;: &quot;59&quot;, &quot;properties&quot;: {&quot;cycle&quot;: 1, &quot;dh_fit_dx&quot;: -0.11697492242663, &quot;dh_fit_dy&quot;: 0.0, &quot;distance&quot;: 31318543.67802039, &quot;gt&quot;: 30, &quot;h_mean&quot;: 1875.908555937835, &quot;h_sigma&quot;: 0.2043880760333796, &quot;index&quot;: 59, &quot;n_fit_photons&quot;: 12, &quot;pflags&quot;: 0, &quot;rgt&quot;: 325, &quot;rms_misfit&quot;: 0.34312810977377733, &quot;segment_id&quot;: 1565362, &quot;spot&quot;: 4, &quot;time&quot;: &quot;2018-10-19&quot;, &quot;w_surface_window_final&quot;: 3.13912337625456}, &quot;type&quot;: &quot;Feature&quot;}, {&quot;bbox&quot;: [-100.94445335703321, -78.99877676968856, -100.94445335703321, -78.99877676968856], &quot;geometry&quot;: {&quot;coordinates&quot;: [-100.94445335703321, -78.99877676968856], &quot;type&quot;: &quot;Point&quot;}, &quot;id&quot;: &quot;60&quot;, &quot;properties&quot;: {&quot;cycle&quot;: 1, &quot;dh_fit_dx&quot;: 0.031748444022672725, &quot;dh_fit_dy&quot;: 0.0, &quot;distance&quot;: 31318424.284008898, &quot;gt&quot;: 10, &quot;h_mean&quot;: 1870.388295245465, &quot;h_sigma&quot;: 0.10074885426823686, &quot;index&quot;: 60, &quot;n_fit_photons&quot;: 37, &quot;pflags&quot;: 0, &quot;rgt&quot;: 325, &quot;rms_misfit&quot;: 0.4163886693243068, &quot;segment_id&quot;: 1565356, &quot;spot&quot;: 6, &quot;time&quot;: &quot;2018-10-19&quot;, &quot;w_surface_window_final&quot;: 3.0}, &quot;type&quot;: &quot;Feature&quot;}, {&quot;bbox&quot;: [-100.7908633096352, -78.99167644755238, -100.7908633096352, -78.99167644755238], &quot;geometry&quot;: {&quot;coordinates&quot;: [-100.7908633096352, -78.99167644755238], &quot;type&quot;: &quot;Point&quot;}, &quot;id&quot;: &quot;61&quot;, &quot;properties&quot;: {&quot;cycle&quot;: 1, &quot;dh_fit_dx&quot;: 0.02552290117845439, &quot;dh_fit_dy&quot;: 0.0, &quot;distance&quot;: 31318563.57702283, &quot;gt&quot;: 30, &quot;h_mean&quot;: 1873.7801869139018, &quot;h_sigma&quot;: 0.09957487510744628, &quot;index&quot;: 61, &quot;n_fit_photons&quot;: 91, &quot;pflags&quot;: 4, &quot;rgt&quot;: 325, &quot;rms_misfit&quot;: 0.9483944242678065, &quot;segment_id&quot;: 1565363, &quot;spot&quot;: 4, &quot;time&quot;: &quot;2018-10-19&quot;, &quot;w_surface_window_final&quot;: 6.121030148052542}, &quot;type&quot;: &quot;Feature&quot;}, {&quot;bbox&quot;: [-100.63748824926877, -78.98449956985039, -100.63748824926877, -78.98449956985039], &quot;geometry&quot;: {&quot;coordinates&quot;: [-100.63748824926877, -78.98449956985039], &quot;type&quot;: &quot;Point&quot;}, &quot;id&quot;: &quot;62&quot;, &quot;properties&quot;: {&quot;cycle&quot;: 1, &quot;dh_fit_dx&quot;: 7.635820462387591e-05, &quot;dh_fit_dy&quot;: 0.0, &quot;distance&quot;: 31318702.870044082, &quot;gt&quot;: 50, &quot;h_mean&quot;: 1876.0678504624484, &quot;h_sigma&quot;: 0.05982414892123962, &quot;index&quot;: 62, &quot;n_fit_photons&quot;: 87, &quot;pflags&quot;: 4, &quot;rgt&quot;: 325, &quot;rms_misfit&quot;: 0.5502270161270527, &quot;segment_id&quot;: 1565370, &quot;spot&quot;: 2, &quot;time&quot;: &quot;2018-10-19&quot;, &quot;w_surface_window_final&quot;: 4.49166926459711}, &quot;type&quot;: &quot;Feature&quot;}, {&quot;bbox&quot;: [-100.94463929671117, -78.998602116338, -100.94463929671117, -78.998602116338], &quot;geometry&quot;: {&quot;coordinates&quot;: [-100.94463929671117, -78.998602116338], &quot;type&quot;: &quot;Point&quot;}, &quot;id&quot;: &quot;63&quot;, &quot;properties&quot;: {&quot;cycle&quot;: 1, &quot;dh_fit_dx&quot;: 0.008153498127616851, &quot;dh_fit_dy&quot;: 0.0, &quot;distance&quot;: 31318444.18301044, &quot;gt&quot;: 10, &quot;h_mean&quot;: 1870.574906615831, &quot;h_sigma&quot;: 0.07194001605440659, &quot;index&quot;: 63, &quot;n_fit_photons&quot;: 66, &quot;pflags&quot;: 4, &quot;rgt&quot;: 325, &quot;rms_misfit&quot;: 0.5776529134400445, &quot;segment_id&quot;: 1565357, &quot;spot&quot;: 6, &quot;time&quot;: &quot;2018-10-19&quot;, &quot;w_surface_window_final&quot;: 3.570545993276083}, &quot;type&quot;: &quot;Feature&quot;}, {&quot;bbox&quot;: [-100.79104800391258, -78.99150174132265, -100.79104800391258, -78.99150174132265], &quot;geometry&quot;: {&quot;coordinates&quot;: [-100.79104800391258, -78.99150174132265], &quot;type&quot;: &quot;Point&quot;}, &quot;id&quot;: &quot;64&quot;, &quot;properties&quot;: {&quot;cycle&quot;: 1, &quot;dh_fit_dx&quot;: -0.006050729308555293, &quot;dh_fit_dy&quot;: 0.0, &quot;distance&quot;: 31318583.476025417, &quot;gt&quot;: 30, &quot;h_mean&quot;: 1873.7108019631228, &quot;h_sigma&quot;: 0.0349283665605208, &quot;index&quot;: 64, &quot;n_fit_photons&quot;: 72, &quot;pflags&quot;: 0, &quot;rgt&quot;: 325, &quot;rms_misfit&quot;: 0.29629030547735324, &quot;segment_id&quot;: 1565364, &quot;spot&quot;: 4, &quot;time&quot;: &quot;2018-10-19&quot;, &quot;w_surface_window_final&quot;: 3.0}, &quot;type&quot;: &quot;Feature&quot;}, {&quot;bbox&quot;: [-100.63767680398878, -78.98432500502778, -100.63767680398878, -78.98432500502778], &quot;geometry&quot;: {&quot;coordinates&quot;: [-100.63767680398878, -78.98432500502778], &quot;type&quot;: &quot;Point&quot;}, &quot;id&quot;: &quot;65&quot;, &quot;properties&quot;: {&quot;cycle&quot;: 1, &quot;dh_fit_dx&quot;: -0.00166783191201688, &quot;dh_fit_dy&quot;: 0.0, &quot;distance&quot;: 31318722.769047715, &quot;gt&quot;: 50, &quot;h_mean&quot;: 1875.9335259979853, &quot;h_sigma&quot;: 0.03266338888364193, &quot;index&quot;: 65, &quot;n_fit_photons&quot;: 79, &quot;pflags&quot;: 0, &quot;rgt&quot;: 325, &quot;rms_misfit&quot;: 0.2903174053005659, &quot;segment_id&quot;: 1565371, &quot;spot&quot;: 2, &quot;time&quot;: &quot;2018-10-19&quot;, &quot;w_surface_window_final&quot;: 3.0}, &quot;type&quot;: &quot;Feature&quot;}, {&quot;bbox&quot;: [-100.94482404682856, -78.99842741896596, -100.94482404682856, -78.99842741896596], &quot;geometry&quot;: {&quot;coordinates&quot;: [-100.94482404682856, -78.99842741896596], &quot;type&quot;: &quot;Point&quot;}, &quot;id&quot;: &quot;66&quot;, &quot;properties&quot;: {&quot;cycle&quot;: 1, &quot;dh_fit_dx&quot;: 0.009114998485159587, &quot;dh_fit_dy&quot;: 0.0, &quot;distance&quot;: 31318464.08201213, &quot;gt&quot;: 10, &quot;h_mean&quot;: 1870.6862339231263, &quot;h_sigma&quot;: 0.05748924168245941, &quot;index&quot;: 66, &quot;n_fit_photons&quot;: 64, &quot;pflags&quot;: 4, &quot;rgt&quot;: 325, &quot;rms_misfit&quot;: 0.4569204930962826, &quot;segment_id&quot;: 1565358, &quot;spot&quot;: 6, &quot;time&quot;: &quot;2018-10-19&quot;, &quot;w_surface_window_final&quot;: 3.7983619785808536}, &quot;type&quot;: &quot;Feature&quot;}, {&quot;bbox&quot;: [-100.79123246311664, -78.99132702610947, -100.79123246311664, -78.99132702610947], &quot;geometry&quot;: {&quot;coordinates&quot;: [-100.79123246311664, -78.99132702610947], &quot;type&quot;: &quot;Point&quot;}, &quot;id&quot;: &quot;67&quot;, &quot;properties&quot;: {&quot;cycle&quot;: 1, &quot;dh_fit_dx&quot;: -0.005752119961143618, &quot;dh_fit_dy&quot;: 0.0, &quot;distance&quot;: 31318603.375028156, &quot;gt&quot;: 30, &quot;h_mean&quot;: 1873.532934949737, &quot;h_sigma&quot;: 0.05345940748454325, &quot;index&quot;: 67, &quot;n_fit_photons&quot;: 82, &quot;pflags&quot;: 0, &quot;rgt&quot;: 325, &quot;rms_misfit&quot;: 0.48349691971466663, &quot;segment_id&quot;: 1565365, &quot;spot&quot;: 4, &quot;time&quot;: &quot;2018-10-19&quot;, &quot;w_surface_window_final&quot;: 6.535347388911264}, &quot;type&quot;: &quot;Feature&quot;}, {&quot;bbox&quot;: [-100.63786398107916, -78.98415038928214, -100.63786398107916, -78.98415038928214], &quot;geometry&quot;: {&quot;coordinates&quot;: [-100.63786398107916, -78.98415038928214], &quot;type&quot;: &quot;Point&quot;}, &quot;id&quot;: &quot;68&quot;, &quot;properties&quot;: {&quot;cycle&quot;: 1, &quot;dh_fit_dx&quot;: 0.003829363619506022, &quot;dh_fit_dy&quot;: 0.0, &quot;distance&quot;: 31318742.668051496, &quot;gt&quot;: 50, &quot;h_mean&quot;: 1875.8078850679387, &quot;h_sigma&quot;: 0.1104363994118082, &quot;index&quot;: 68, &quot;n_fit_photons&quot;: 92, &quot;pflags&quot;: 4, &quot;rgt&quot;: 325, &quot;rms_misfit&quot;: 1.0569492354946115, &quot;segment_id&quot;: 1565372, &quot;spot&quot;: 2, &quot;time&quot;: &quot;2018-10-19&quot;, &quot;w_surface_window_final&quot;: 8.071697579018593}, &quot;type&quot;: &quot;Feature&quot;}, {&quot;bbox&quot;: [-100.94500811141845, -78.99825269638282, -100.94500811141845, -78.99825269638282], &quot;geometry&quot;: {&quot;coordinates&quot;: [-100.94500811141845, -78.99825269638282], &quot;type&quot;: &quot;Point&quot;}, &quot;id&quot;: &quot;69&quot;, &quot;properties&quot;: {&quot;cycle&quot;: 1, &quot;dh_fit_dx&quot;: 0.09054971795456165, &quot;dh_fit_dy&quot;: 0.0, &quot;distance&quot;: 31318483.981013972, &quot;gt&quot;: 10, &quot;h_mean&quot;: 1869.2936646070868, &quot;h_sigma&quot;: 0.15531369348852814, &quot;index&quot;: 69, &quot;n_fit_photons&quot;: 37, &quot;pflags&quot;: 0, &quot;rgt&quot;: 325, &quot;rms_misfit&quot;: 0.5329911109120381, &quot;segment_id&quot;: 1565359, &quot;spot&quot;: 6, &quot;time&quot;: &quot;2018-10-19&quot;, &quot;w_surface_window_final&quot;: 3.4469129750127534}, &quot;type&quot;: &quot;Feature&quot;}, {&quot;bbox&quot;: [-100.7914166656317, -78.99115230153978, -100.7914166656317, -78.99115230153978], &quot;geometry&quot;: {&quot;coordinates&quot;: [-100.7914166656317, -78.99115230153978], &quot;type&quot;: &quot;Point&quot;}, &quot;id&quot;: &quot;70&quot;, &quot;properties&quot;: {&quot;cycle&quot;: 1, &quot;dh_fit_dx&quot;: -0.001978709916820555, &quot;dh_fit_dy&quot;: 0.0, &quot;distance&quot;: 31318623.274031043, &quot;gt&quot;: 30, &quot;h_mean&quot;: 1873.5241716078626, &quot;h_sigma&quot;: 0.05038792372031999, &quot;index&quot;: 70, &quot;n_fit_photons&quot;: 83, &quot;pflags&quot;: 0, &quot;rgt&quot;: 325, &quot;rms_misfit&quot;: 0.4562162591352633, &quot;segment_id&quot;: 1565366, &quot;spot&quot;: 4, &quot;time&quot;: &quot;2018-10-19&quot;, &quot;w_surface_window_final&quot;: 3.906667584474688}, &quot;type&quot;: &quot;Feature&quot;}, {&quot;bbox&quot;: [-100.63804783471791, -78.98397564397, -100.63804783471791, -78.98397564397], &quot;geometry&quot;: {&quot;coordinates&quot;: [-100.63804783471791, -78.98397564397], &quot;type&quot;: &quot;Point&quot;}, &quot;id&quot;: &quot;71&quot;, &quot;properties&quot;: {&quot;cycle&quot;: 1, &quot;dh_fit_dx&quot;: 0.04310239626925391, &quot;dh_fit_dy&quot;: 0.0, &quot;distance&quot;: 31318762.567055427, &quot;gt&quot;: 50, &quot;h_mean&quot;: 1873.7419069430414, &quot;h_sigma&quot;: 0.0, &quot;index&quot;: 71, &quot;n_fit_photons&quot;: 146, &quot;pflags&quot;: 2, &quot;rgt&quot;: 325, &quot;rms_misfit&quot;: 0.0, &quot;segment_id&quot;: 1565373, &quot;spot&quot;: 2, &quot;time&quot;: &quot;2018-10-19&quot;, &quot;w_surface_window_final&quot;: 3.060244224387975}, &quot;type&quot;: &quot;Feature&quot;}, {&quot;bbox&quot;: [-100.94518783811398, -78.99807780956287, -100.94518783811398, -78.99807780956287], &quot;geometry&quot;: {&quot;coordinates&quot;: [-100.94518783811398, -78.99807780956287], &quot;type&quot;: &quot;Point&quot;}, &quot;id&quot;: &quot;72&quot;, &quot;properties&quot;: {&quot;cycle&quot;: 1, &quot;dh_fit_dx&quot;: 0.006890036083376788, &quot;dh_fit_dy&quot;: 0.0, &quot;distance&quot;: 31318503.88001596, &quot;gt&quot;: 10, &quot;h_mean&quot;: 1870.5725796590023, &quot;h_sigma&quot;: 0.05278928460648562, &quot;index&quot;: 72, &quot;n_fit_photons&quot;: 74, &quot;pflags&quot;: 4, &quot;rgt&quot;: 325, &quot;rms_misfit&quot;: 0.44504654105662395, &quot;segment_id&quot;: 1565360, &quot;spot&quot;: 6, &quot;time&quot;: &quot;2018-10-19&quot;, &quot;w_surface_window_final&quot;: 3.4021275648330245}, &quot;type&quot;: &quot;Feature&quot;}, {&quot;bbox&quot;: [-100.7916005274896, -78.99097756409802, -100.7916005274896, -78.99097756409802], &quot;geometry&quot;: {&quot;coordinates&quot;: [-100.7916005274896, -78.99097756409802], &quot;type&quot;: &quot;Point&quot;}, &quot;id&quot;: &quot;73&quot;, &quot;properties&quot;: {&quot;cycle&quot;: 1, &quot;dh_fit_dx&quot;: -0.0021585747856443208, &quot;dh_fit_dy&quot;: 0.0, &quot;distance&quot;: 31318643.17303408, &quot;gt&quot;: 30, &quot;h_mean&quot;: 1873.458947557445, &quot;h_sigma&quot;: 0.029768318340703398, &quot;index&quot;: 73, &quot;n_fit_photons&quot;: 75, &quot;pflags&quot;: 0, &quot;rgt&quot;: 325, &quot;rms_misfit&quot;: 0.257223163709322, &quot;segment_id&quot;: 1565367, &quot;spot&quot;: 4, &quot;time&quot;: &quot;2018-10-19&quot;, &quot;w_surface_window_final&quot;: 3.0}, &quot;type&quot;: &quot;Feature&quot;}, {&quot;bbox&quot;: [-100.63823090024293, -78.98380086621383, -100.63823090024293, -78.98380086621383], &quot;geometry&quot;: {&quot;coordinates&quot;: [-100.63823090024293, -78.98380086621383], &quot;type&quot;: &quot;Point&quot;}, &quot;id&quot;: &quot;74&quot;, &quot;properties&quot;: {&quot;cycle&quot;: 1, &quot;dh_fit_dx&quot;: 0.004387620659518638, &quot;dh_fit_dy&quot;: 0.0, &quot;distance&quot;: 31318782.466059506, &quot;gt&quot;: 50, &quot;h_mean&quot;: 1875.8988284853817, &quot;h_sigma&quot;: 0.031557304997857846, &quot;index&quot;: 74, &quot;n_fit_photons&quot;: 75, &quot;pflags&quot;: 0, &quot;rgt&quot;: 325, &quot;rms_misfit&quot;: 0.2700658488003202, &quot;segment_id&quot;: 1565374, &quot;spot&quot;: 2, &quot;time&quot;: &quot;2018-10-19&quot;, &quot;w_surface_window_final&quot;: 3.0}, &quot;type&quot;: &quot;Feature&quot;}, {&quot;bbox&quot;: [-100.94536479254263, -78.99790281886217, -100.94536479254263, -78.99790281886217], &quot;geometry&quot;: {&quot;coordinates&quot;: [-100.94536479254263, -78.99790281886217], &quot;type&quot;: &quot;Point&quot;}, &quot;id&quot;: &quot;75&quot;, &quot;properties&quot;: {&quot;cycle&quot;: 1, &quot;dh_fit_dx&quot;: -0.03147509394814602, &quot;dh_fit_dy&quot;: 0.0, &quot;distance&quot;: 31318523.7790181, &quot;gt&quot;: 10, &quot;h_mean&quot;: 1873.1679706989605, &quot;h_sigma&quot;: 0.0, &quot;index&quot;: 75, &quot;n_fit_photons&quot;: 193, &quot;pflags&quot;: 2, &quot;rgt&quot;: 325, &quot;rms_misfit&quot;: 0.0, &quot;segment_id&quot;: 1565361, &quot;spot&quot;: 6, &quot;time&quot;: &quot;2018-10-19&quot;, &quot;w_surface_window_final&quot;: 3.0}, &quot;type&quot;: &quot;Feature&quot;}, {&quot;bbox&quot;: [-100.79178388691884, -78.99080280770679, -100.79178388691884, -78.99080280770679], &quot;geometry&quot;: {&quot;coordinates&quot;: [-100.79178388691884, -78.99080280770679], &quot;type&quot;: &quot;Point&quot;}, &quot;id&quot;: &quot;76&quot;, &quot;properties&quot;: {&quot;cycle&quot;: 1, &quot;dh_fit_dx&quot;: -0.0004629755265847285, &quot;dh_fit_dy&quot;: 0.0, &quot;distance&quot;: 31318663.072037265, &quot;gt&quot;: 30, &quot;h_mean&quot;: 1873.389419169239, &quot;h_sigma&quot;: 0.03576189274704694, &quot;index&quot;: 76, &quot;n_fit_photons&quot;: 81, &quot;pflags&quot;: 0, &quot;rgt&quot;: 325, &quot;rms_misfit&quot;: 0.3177509743692562, &quot;segment_id&quot;: 1565368, &quot;spot&quot;: 4, &quot;time&quot;: &quot;2018-10-19&quot;, &quot;w_surface_window_final&quot;: 3.0}, &quot;type&quot;: &quot;Feature&quot;}, {&quot;bbox&quot;: [-100.63841092802602, -78.98362597299744, -100.63841092802602, -78.98362597299744], &quot;geometry&quot;: {&quot;coordinates&quot;: [-100.63841092802602, -78.98362597299744], &quot;type&quot;: &quot;Point&quot;}, &quot;id&quot;: &quot;77&quot;, &quot;properties&quot;: {&quot;cycle&quot;: 1, &quot;dh_fit_dx&quot;: 0.0029848899929703727, &quot;dh_fit_dy&quot;: 0.0, &quot;distance&quot;: 31318802.365063734, &quot;gt&quot;: 50, &quot;h_mean&quot;: 1875.9642488556465, &quot;h_sigma&quot;: 0.01828130010359642, &quot;index&quot;: 77, &quot;n_fit_photons&quot;: 83, &quot;pflags&quot;: 0, &quot;rgt&quot;: 325, &quot;rms_misfit&quot;: 0.1664700069656454, &quot;segment_id&quot;: 1565375, &quot;spot&quot;: 2, &quot;time&quot;: &quot;2018-10-19&quot;, &quot;w_surface_window_final&quot;: 3.0}, &quot;type&quot;: &quot;Feature&quot;}, {&quot;bbox&quot;: [-100.94554108789045, -78.9977278026363, -100.94554108789045, -78.9977278026363], &quot;geometry&quot;: {&quot;coordinates&quot;: [-100.94554108789045, -78.9977278026363], &quot;type&quot;: &quot;Point&quot;}, &quot;id&quot;: &quot;78&quot;, &quot;properties&quot;: {&quot;cycle&quot;: 1, &quot;dh_fit_dx&quot;: 0.052572798125603934, &quot;dh_fit_dy&quot;: 0.0, &quot;distance&quot;: 31318543.67802039, &quot;gt&quot;: 10, &quot;h_mean&quot;: 1871.1686367072175, &quot;h_sigma&quot;: 0.0, &quot;index&quot;: 78, &quot;n_fit_photons&quot;: 29, &quot;pflags&quot;: 1, &quot;rgt&quot;: 325, &quot;rms_misfit&quot;: 0.0, &quot;segment_id&quot;: 1565362, &quot;spot&quot;: 6, &quot;time&quot;: &quot;2018-10-19&quot;, &quot;w_surface_window_final&quot;: 3.1969602269424717}, &quot;type&quot;: &quot;Feature&quot;}, {&quot;bbox&quot;: [-100.79196648568356, -78.99062802215549, -100.79196648568356, -78.99062802215549], &quot;geometry&quot;: {&quot;coordinates&quot;: [-100.79196648568356, -78.99062802215549], &quot;type&quot;: &quot;Point&quot;}, &quot;id&quot;: &quot;79&quot;, &quot;properties&quot;: {&quot;cycle&quot;: 1, &quot;dh_fit_dx&quot;: 0.00233154516861674, &quot;dh_fit_dy&quot;: 0.0, &quot;distance&quot;: 31318682.9710406, &quot;gt&quot;: 30, &quot;h_mean&quot;: 1873.3646428218324, &quot;h_sigma&quot;: 0.03710459759697346, &quot;index&quot;: 79, &quot;n_fit_photons&quot;: 67, &quot;pflags&quot;: 0, &quot;rgt&quot;: 325, &quot;rms_misfit&quot;: 0.2943828509823545, &quot;segment_id&quot;: 1565369, &quot;spot&quot;: 4, &quot;time&quot;: &quot;2018-10-19&quot;, &quot;w_surface_window_final&quot;: 3.0}, &quot;type&quot;: &quot;Feature&quot;}, {&quot;bbox&quot;: [-100.63858869998279, -78.98345099078989, -100.63858869998279, -78.98345099078989], &quot;geometry&quot;: {&quot;coordinates&quot;: [-100.63858869998279, -78.98345099078989], &quot;type&quot;: &quot;Point&quot;}, &quot;id&quot;: &quot;80&quot;, &quot;properties&quot;: {&quot;cycle&quot;: 1, &quot;dh_fit_dx&quot;: 0.0012462814109295947, &quot;dh_fit_dy&quot;: 0.0, &quot;distance&quot;: 31318822.26406811, &quot;gt&quot;: 50, &quot;h_mean&quot;: 1873.4207017470897, &quot;h_sigma&quot;: 0.0, &quot;index&quot;: 80, &quot;n_fit_photons&quot;: 172, &quot;pflags&quot;: 2, &quot;rgt&quot;: 325, &quot;rms_misfit&quot;: 0.0, &quot;segment_id&quot;: 1565376, &quot;spot&quot;: 2, &quot;time&quot;: &quot;2018-10-19&quot;, &quot;w_surface_window_final&quot;: 3.0}, &quot;type&quot;: &quot;Feature&quot;}, {&quot;bbox&quot;: [-100.94571634598397, -78.99755274909245, -100.94571634598397, -78.99755274909245], &quot;geometry&quot;: {&quot;coordinates&quot;: [-100.94571634598397, -78.99755274909245], &quot;type&quot;: &quot;Point&quot;}, &quot;id&quot;: &quot;81&quot;, &quot;properties&quot;: {&quot;cycle&quot;: 1, &quot;dh_fit_dx&quot;: 0.14177031117903285, &quot;dh_fit_dy&quot;: 0.0, &quot;distance&quot;: 31318563.57702283, &quot;gt&quot;: 10, &quot;h_mean&quot;: 1872.8896521179129, &quot;h_sigma&quot;: 0.2749271847349587, &quot;index&quot;: 81, &quot;n_fit_photons&quot;: 20, &quot;pflags&quot;: 0, &quot;rgt&quot;: 325, &quot;rms_misfit&quot;: 1.0010259431403379, &quot;segment_id&quot;: 1565363, &quot;spot&quot;: 6, &quot;time&quot;: &quot;2018-10-19&quot;, &quot;w_surface_window_final&quot;: 17.07078843051403}, &quot;type&quot;: &quot;Feature&quot;}, {&quot;bbox&quot;: [-100.79214869065842, -78.99045322121317, -100.79214869065842, -78.99045322121317], &quot;geometry&quot;: {&quot;coordinates&quot;: [-100.79214869065842, -78.99045322121317], &quot;type&quot;: &quot;Point&quot;}, &quot;id&quot;: &quot;82&quot;, &quot;properties&quot;: {&quot;cycle&quot;: 1, &quot;dh_fit_dx&quot;: -0.0014982825136973812, &quot;dh_fit_dy&quot;: 0.0, &quot;distance&quot;: 31318702.870044082, &quot;gt&quot;: 30, &quot;h_mean&quot;: 1875.0125260962689, &quot;h_sigma&quot;: 0.0, &quot;index&quot;: 82, &quot;n_fit_photons&quot;: 172, &quot;pflags&quot;: 2, &quot;rgt&quot;: 325, &quot;rms_misfit&quot;: 0.0, &quot;segment_id&quot;: 1565370, &quot;spot&quot;: 4, &quot;time&quot;: &quot;2018-10-19&quot;, &quot;w_surface_window_final&quot;: 3.0}, &quot;type&quot;: &quot;Feature&quot;}, {&quot;bbox&quot;: [-100.63876928019641, -78.98327611754638, -100.63876928019641, -78.98327611754638], &quot;geometry&quot;: {&quot;coordinates&quot;: [-100.63876928019641, -78.98327611754638], &quot;type&quot;: &quot;Point&quot;}, &quot;id&quot;: &quot;83&quot;, &quot;properties&quot;: {&quot;cycle&quot;: 1, &quot;dh_fit_dx&quot;: -0.0013734875445921351, &quot;dh_fit_dy&quot;: 0.0, &quot;distance&quot;: 31318842.16307264, &quot;gt&quot;: 50, &quot;h_mean&quot;: 1875.8800519167144, &quot;h_sigma&quot;: 0.03839800524852741, &quot;index&quot;: 83, &quot;n_fit_photons&quot;: 98, &quot;pflags&quot;: 4, &quot;rgt&quot;: 325, &quot;rms_misfit&quot;: 0.37720731370445776, &quot;segment_id&quot;: 1565377, &quot;spot&quot;: 2, &quot;time&quot;: &quot;2018-10-19&quot;, &quot;w_surface_window_final&quot;: 3.6864178991526506}, &quot;type&quot;: &quot;Feature&quot;}, {&quot;bbox&quot;: [-100.94589172139008, -78.9973776988299, -100.94589172139008, -78.9973776988299], &quot;geometry&quot;: {&quot;coordinates&quot;: [-100.94589172139008, -78.9973776988299], &quot;type&quot;: &quot;Point&quot;}, &quot;id&quot;: &quot;84&quot;, &quot;properties&quot;: {&quot;cycle&quot;: 1, &quot;dh_fit_dx&quot;: 0.13691795021679432, &quot;dh_fit_dy&quot;: 0.0, &quot;distance&quot;: 31318583.476025417, &quot;gt&quot;: 10, &quot;h_mean&quot;: 1872.4755011366858, &quot;h_sigma&quot;: 0.28232263534572305, &quot;index&quot;: 84, &quot;n_fit_photons&quot;: 32, &quot;pflags&quot;: 0, &quot;rgt&quot;: 325, &quot;rms_misfit&quot;: 1.290109364542204, &quot;segment_id&quot;: 1565364, &quot;spot&quot;: 6, &quot;time&quot;: &quot;2018-10-19&quot;, &quot;w_surface_window_final&quot;: 8.267331515360313}, &quot;type&quot;: &quot;Feature&quot;}, {&quot;bbox&quot;: [-100.79232918689905, -78.99027835515245, -100.79232918689905, -78.99027835515245], &quot;geometry&quot;: {&quot;coordinates&quot;: [-100.79232918689905, -78.99027835515245], &quot;type&quot;: &quot;Point&quot;}, &quot;id&quot;: &quot;85&quot;, &quot;properties&quot;: {&quot;cycle&quot;: 1, &quot;dh_fit_dx&quot;: -0.0011798297675438356, &quot;dh_fit_dy&quot;: 0.0, &quot;distance&quot;: 31318722.769047715, &quot;gt&quot;: 30, &quot;h_mean&quot;: 1873.2694177540454, &quot;h_sigma&quot;: 0.06356799233426397, &quot;index&quot;: 85, &quot;n_fit_photons&quot;: 81, &quot;pflags&quot;: 4, &quot;rgt&quot;: 325, &quot;rms_misfit&quot;: 0.5662471512113643, &quot;segment_id&quot;: 1565371, &quot;spot&quot;: 4, &quot;time&quot;: &quot;2018-10-19&quot;, &quot;w_surface_window_final&quot;: 3.4958448711889103}, &quot;type&quot;: &quot;Feature&quot;}, {&quot;bbox&quot;: [-100.63894887454863, -78.98310120655609, -100.63894887454863, -78.98310120655609], &quot;geometry&quot;: {&quot;coordinates&quot;: [-100.63894887454863, -78.98310120655609], &quot;type&quot;: &quot;Point&quot;}, &quot;id&quot;: &quot;86&quot;, &quot;properties&quot;: {&quot;cycle&quot;: 1, &quot;dh_fit_dx&quot;: 0.0028696703607674207, &quot;dh_fit_dy&quot;: 0.0, &quot;distance&quot;: 31318862.062077314, &quot;gt&quot;: 50, &quot;h_mean&quot;: 1875.8836573933709, &quot;h_sigma&quot;: 0.027184544768953958, &quot;index&quot;: 86, &quot;n_fit_photons&quot;: 91, &quot;pflags&quot;: 0, &quot;rgt&quot;: 325, &quot;rms_misfit&quot;: 0.2591678786168654, &quot;segment_id&quot;: 1565378, &quot;spot&quot;: 2, &quot;time&quot;: &quot;2018-10-19&quot;, &quot;w_surface_window_final&quot;: 3.0}, &quot;type&quot;: &quot;Feature&quot;}, {&quot;bbox&quot;: [-100.94606749886299, -78.99720266442357, -100.94606749886299, -78.99720266442357], &quot;geometry&quot;: {&quot;coordinates&quot;: [-100.94606749886299, -78.99720266442357], &quot;type&quot;: &quot;Point&quot;}, &quot;id&quot;: &quot;87&quot;, &quot;properties&quot;: {&quot;cycle&quot;: 1, &quot;dh_fit_dx&quot;: -0.020887477702237887, &quot;dh_fit_dy&quot;: 0.0, &quot;distance&quot;: 31318603.375028156, &quot;gt&quot;: 10, &quot;h_mean&quot;: 1870.8459017480823, &quot;h_sigma&quot;: 0.2995837182946662, &quot;index&quot;: 87, &quot;n_fit_photons&quot;: 56, &quot;pflags&quot;: 4, &quot;rgt&quot;: 325, &quot;rms_misfit&quot;: 2.241711310845137, &quot;segment_id&quot;: 1565365, &quot;spot&quot;: 6, &quot;time&quot;: &quot;2018-10-19&quot;, &quot;w_surface_window_final&quot;: 9.4921875}, &quot;type&quot;: &quot;Feature&quot;}, {&quot;bbox&quot;: [-100.79250944084454, -78.9901034802122, -100.79250944084454, -78.9901034802122], &quot;geometry&quot;: {&quot;coordinates&quot;: [-100.79250944084454, -78.9901034802122], &quot;type&quot;: &quot;Point&quot;}, &quot;id&quot;: &quot;88&quot;, &quot;properties&quot;: {&quot;cycle&quot;: 1, &quot;dh_fit_dx&quot;: -0.005225478313106019, &quot;dh_fit_dy&quot;: 0.0, &quot;distance&quot;: 31318742.668051496, &quot;gt&quot;: 30, &quot;h_mean&quot;: 1873.2298704413781, &quot;h_sigma&quot;: 0.024102234224253578, &quot;index&quot;: 88, &quot;n_fit_photons&quot;: 93, &quot;pflags&quot;: 0, &quot;rgt&quot;: 325, &quot;rms_misfit&quot;: 0.2317817143661702, &quot;segment_id&quot;: 1565372, &quot;spot&quot;: 4, &quot;time&quot;: &quot;2018-10-19&quot;, &quot;w_surface_window_final&quot;: 3.0}, &quot;type&quot;: &quot;Feature&quot;}, {&quot;bbox&quot;: [-100.63912916015498, -78.9829263232985, -100.63912916015498, -78.9829263232985], &quot;geometry&quot;: {&quot;coordinates&quot;: [-100.63912916015498, -78.9829263232985], &quot;type&quot;: &quot;Point&quot;}, &quot;id&quot;: &quot;89&quot;, &quot;properties&quot;: {&quot;cycle&quot;: 1, &quot;dh_fit_dx&quot;: -0.0035630456074394854, &quot;dh_fit_dy&quot;: 0.0, &quot;distance&quot;: 31318881.961082138, &quot;gt&quot;: 50, &quot;h_mean&quot;: 1875.9371177535304, &quot;h_sigma&quot;: 0.04886434931134959, &quot;index&quot;: 89, &quot;n_fit_photons&quot;: 88, &quot;pflags&quot;: 4, &quot;rgt&quot;: 325, &quot;rms_misfit&quot;: 0.45759760663692384, &quot;segment_id&quot;: 1565379, &quot;spot&quot;: 2, &quot;time&quot;: &quot;2018-10-19&quot;, &quot;w_surface_window_final&quot;: 3.0927920841038086}, &quot;type&quot;: &quot;Feature&quot;}, {&quot;bbox&quot;: [-100.94624356992408, -78.9970276410372, -100.94624356992408, -78.9970276410372], &quot;geometry&quot;: {&quot;coordinates&quot;: [-100.94624356992408, -78.9970276410372], &quot;type&quot;: &quot;Point&quot;}, &quot;id&quot;: &quot;90&quot;, &quot;properties&quot;: {&quot;cycle&quot;: 1, &quot;dh_fit_dx&quot;: -0.16593783554023117, &quot;dh_fit_dy&quot;: 0.0, &quot;distance&quot;: 31318623.274031043, &quot;gt&quot;: 10, &quot;h_mean&quot;: 1871.0760209187074, &quot;h_sigma&quot;: 0.40685201684858996, &quot;index&quot;: 90, &quot;n_fit_photons&quot;: 65, &quot;pflags&quot;: 0, &quot;rgt&quot;: 325, &quot;rms_misfit&quot;: 3.273179431838088, &quot;segment_id&quot;: 1565366, &quot;spot&quot;: 6, &quot;time&quot;: &quot;2018-10-19&quot;, &quot;w_surface_window_final&quot;: 15.916794462464775}, &quot;type&quot;: &quot;Feature&quot;}, {&quot;bbox&quot;: [-100.79268881015877, -78.98992857134729, -100.79268881015877, -78.98992857134729], &quot;geometry&quot;: {&quot;coordinates&quot;: [-100.79268881015877, -78.98992857134729], &quot;type&quot;: &quot;Point&quot;}, &quot;id&quot;: &quot;91&quot;, &quot;properties&quot;: {&quot;cycle&quot;: 1, &quot;dh_fit_dx&quot;: -0.006488222276581484, &quot;dh_fit_dy&quot;: 0.0, &quot;distance&quot;: 31318762.567055427, &quot;gt&quot;: 30, &quot;h_mean&quot;: 1873.1260988093325, &quot;h_sigma&quot;: 0.03348158220034802, &quot;index&quot;: 91, &quot;n_fit_photons&quot;: 93, &quot;pflags&quot;: 0, &quot;rgt&quot;: 325, &quot;rms_misfit&quot;: 0.32216706066672113, &quot;segment_id&quot;: 1565373, &quot;spot&quot;: 4, &quot;time&quot;: &quot;2018-10-19&quot;, &quot;w_surface_window_final&quot;: 4.446523733842005}, &quot;type&quot;: &quot;Feature&quot;}, {&quot;bbox&quot;: [-100.63931101876791, -78.98275150100493, -100.63931101876791, -78.98275150100493], &quot;geometry&quot;: {&quot;coordinates&quot;: [-100.63931101876791, -78.98275150100493], &quot;type&quot;: &quot;Point&quot;}, &quot;id&quot;: &quot;92&quot;, &quot;properties&quot;: {&quot;cycle&quot;: 1, &quot;dh_fit_dx&quot;: -0.002420611823758191, &quot;dh_fit_dy&quot;: 0.0, &quot;distance&quot;: 31318901.86008711, &quot;gt&quot;: 50, &quot;h_mean&quot;: 1875.8483576044264, &quot;h_sigma&quot;: 0.06421419999860602, &quot;index&quot;: 92, &quot;n_fit_photons&quot;: 87, &quot;pflags&quot;: 4, &quot;rgt&quot;: 325, &quot;rms_misfit&quot;: 0.5988319038113967, &quot;segment_id&quot;: 1565380, &quot;spot&quot;: 2, &quot;time&quot;: &quot;2018-10-19&quot;, &quot;w_surface_window_final&quot;: 3.8997472350947904}, &quot;type&quot;: &quot;Feature&quot;}, {&quot;bbox&quot;: [-100.9464215815247, -78.99685269067514, -100.9464215815247, -78.99685269067514], &quot;geometry&quot;: {&quot;coordinates&quot;: [-100.9464215815247, -78.99685269067514], &quot;type&quot;: &quot;Point&quot;}, &quot;id&quot;: &quot;93&quot;, &quot;properties&quot;: {&quot;cycle&quot;: 1, &quot;dh_fit_dx&quot;: -0.002317418735671036, &quot;dh_fit_dy&quot;: 0.0, &quot;distance&quot;: 31318643.17303408, &quot;gt&quot;: 10, &quot;h_mean&quot;: 1870.2783495656931, &quot;h_sigma&quot;: 0.04112922469482952, &quot;index&quot;: 93, &quot;n_fit_photons&quot;: 40, &quot;pflags&quot;: 0, &quot;rgt&quot;: 325, &quot;rms_misfit&quot;: 0.2596849972865863, &quot;segment_id&quot;: 1565367, &quot;spot&quot;: 6, &quot;time&quot;: &quot;2018-10-19&quot;, &quot;w_surface_window_final&quot;: 3.0}, &quot;type&quot;: &quot;Feature&quot;}, {&quot;bbox&quot;: [-100.79286687132232, -78.98975361263965, -100.79286687132232, -78.98975361263965], &quot;geometry&quot;: {&quot;coordinates&quot;: [-100.79286687132232, -78.98975361263965], &quot;type&quot;: &quot;Point&quot;}, &quot;id&quot;: &quot;94&quot;, &quot;properties&quot;: {&quot;cycle&quot;: 1, &quot;dh_fit_dx&quot;: -0.0002734077418122724, &quot;dh_fit_dy&quot;: 0.0, &quot;distance&quot;: 31318782.466059506, &quot;gt&quot;: 30, &quot;h_mean&quot;: 1873.0809181797488, &quot;h_sigma&quot;: 0.038546619593472574, &quot;index&quot;: 94, &quot;n_fit_photons&quot;: 93, &quot;pflags&quot;: 4, &quot;rgt&quot;: 325, &quot;rms_misfit&quot;: 0.3716872948213734, &quot;segment_id&quot;: 1565374, &quot;spot&quot;: 4, &quot;time&quot;: &quot;2018-10-19&quot;, &quot;w_surface_window_final&quot;: 3.0}, &quot;type&quot;: &quot;Feature&quot;}, {&quot;bbox&quot;: [-100.63949519685809, -78.98257676860815, -100.63949519685809, -78.98257676860815], &quot;geometry&quot;: {&quot;coordinates&quot;: [-100.63949519685809, -78.98257676860815], &quot;type&quot;: &quot;Point&quot;}, &quot;id&quot;: &quot;95&quot;, &quot;properties&quot;: {&quot;cycle&quot;: 1, &quot;dh_fit_dx&quot;: -0.006443081948132504, &quot;dh_fit_dy&quot;: 0.0, &quot;distance&quot;: 31318921.759092234, &quot;gt&quot;: 50, &quot;h_mean&quot;: 1875.8117113884512, &quot;h_sigma&quot;: 0.03171404330804392, &quot;index&quot;: 95, &quot;n_fit_photons&quot;: 88, &quot;pflags&quot;: 0, &quot;rgt&quot;: 325, &quot;rms_misfit&quot;: 0.29729394948791193, &quot;segment_id&quot;: 1565381, &quot;spot&quot;: 2, &quot;time&quot;: &quot;2018-10-19&quot;, &quot;w_surface_window_final&quot;: 3.0}, &quot;type&quot;: &quot;Feature&quot;}, {&quot;bbox&quot;: [-100.94660208212215, -78.99667783389975, -100.94660208212215, -78.99667783389975], &quot;geometry&quot;: {&quot;coordinates&quot;: [-100.94660208212215, -78.99667783389975], &quot;type&quot;: &quot;Point&quot;}, &quot;id&quot;: &quot;96&quot;, &quot;properties&quot;: {&quot;cycle&quot;: 1, &quot;dh_fit_dx&quot;: 0.062059165892559436, &quot;dh_fit_dy&quot;: 0.0, &quot;distance&quot;: 31318663.072037265, &quot;gt&quot;: 10, &quot;h_mean&quot;: 1871.0069817810402, &quot;h_sigma&quot;: 0.13589371159410515, &quot;index&quot;: 96, &quot;n_fit_photons&quot;: 25, &quot;pflags&quot;: 0, &quot;rgt&quot;: 325, &quot;rms_misfit&quot;: 0.5010211217118069, &quot;segment_id&quot;: 1565368, &quot;spot&quot;: 6, &quot;time&quot;: &quot;2018-10-19&quot;, &quot;w_surface_window_final&quot;: 3.4493517012761963}, &quot;type&quot;: &quot;Feature&quot;}, {&quot;bbox&quot;: [-100.7930448654226, -78.98957865183182, -100.7930448654226, -78.98957865183182], &quot;geometry&quot;: {&quot;coordinates&quot;: [-100.7930448654226, -78.98957865183182], &quot;type&quot;: &quot;Point&quot;}, &quot;id&quot;: &quot;97&quot;, &quot;properties&quot;: {&quot;cycle&quot;: 1, &quot;dh_fit_dx&quot;: 0.006728857799350986, &quot;dh_fit_dy&quot;: 0.0, &quot;distance&quot;: 31318802.365063734, &quot;gt&quot;: 30, &quot;h_mean&quot;: 1875.209336129865, &quot;h_sigma&quot;: 0.0, &quot;index&quot;: 97, &quot;n_fit_photons&quot;: 200, &quot;pflags&quot;: 2, &quot;rgt&quot;: 325, &quot;rms_misfit&quot;: 0.0, &quot;segment_id&quot;: 1565375, &quot;spot&quot;: 4, &quot;time&quot;: &quot;2018-10-19&quot;, &quot;w_surface_window_final&quot;: 3.0}, &quot;type&quot;: &quot;Feature&quot;}, {&quot;bbox&quot;: [-100.6396815562078, -78.98240211911293, -100.6396815562078, -78.98240211911293], &quot;geometry&quot;: {&quot;coordinates&quot;: [-100.6396815562078, -78.98240211911293], &quot;type&quot;: &quot;Point&quot;}, &quot;id&quot;: &quot;98&quot;, &quot;properties&quot;: {&quot;cycle&quot;: 1, &quot;dh_fit_dx&quot;: -0.0017539921477270407, &quot;dh_fit_dy&quot;: 0.0, &quot;distance&quot;: 31318941.658097506, &quot;gt&quot;: 50, &quot;h_mean&quot;: 1875.7605125634502, &quot;h_sigma&quot;: 0.030065908325334036, &quot;index&quot;: 98, &quot;n_fit_photons&quot;: 91, &quot;pflags&quot;: 0, &quot;rgt&quot;: 325, &quot;rms_misfit&quot;: 0.28650359319263563, &quot;segment_id&quot;: 1565382, &quot;spot&quot;: 2, &quot;time&quot;: &quot;2018-10-19&quot;, &quot;w_surface_window_final&quot;: 3.0}, &quot;type&quot;: &quot;Feature&quot;}, {&quot;bbox&quot;: [-100.94678306984892, -78.99650299624977, -100.94678306984892, -78.99650299624977], &quot;geometry&quot;: {&quot;coordinates&quot;: [-100.94678306984892, -78.99650299624977], &quot;type&quot;: &quot;Point&quot;}, &quot;id&quot;: &quot;99&quot;, &quot;properties&quot;: {&quot;cycle&quot;: 1, &quot;dh_fit_dx&quot;: -0.03415061432999793, &quot;dh_fit_dy&quot;: 0.0, &quot;distance&quot;: 31318682.9710406, &quot;gt&quot;: 10, &quot;h_mean&quot;: 1870.229100068489, &quot;h_sigma&quot;: 0.09669085009589629, &quot;index&quot;: 99, &quot;n_fit_photons&quot;: 28, &quot;pflags&quot;: 4, &quot;rgt&quot;: 325, &quot;rms_misfit&quot;: 0.5036232303623501, &quot;segment_id&quot;: 1565369, &quot;spot&quot;: 6, &quot;time&quot;: &quot;2018-10-19&quot;, &quot;w_surface_window_final&quot;: 3.0}, &quot;type&quot;: &quot;Feature&quot;}], &quot;type&quot;: &quot;FeatureCollection&quot;});\n",
       "\n",
       "        \n",
       "    \n",
       "    geo_json_617164272ebf824d35c18b195035293f.bindTooltip(\n",
       "    function(layer){\n",
       "    let div = L.DomUtil.create(&#x27;div&#x27;);\n",
       "    \n",
       "    let handleObject = feature=&gt;typeof(feature)==&#x27;object&#x27; ? JSON.stringify(feature) : feature;\n",
       "    let fields = [&quot;index&quot;, &quot;time&quot;, &quot;rgt&quot;, &quot;rms_misfit&quot;, &quot;dh_fit_dy&quot;, &quot;pflags&quot;, &quot;h_sigma&quot;, &quot;h_mean&quot;, &quot;dh_fit_dx&quot;, &quot;cycle&quot;, &quot;segment_id&quot;, &quot;gt&quot;, &quot;distance&quot;, &quot;w_surface_window_final&quot;, &quot;spot&quot;, &quot;n_fit_photons&quot;];\n",
       "    let aliases = [&quot;index&quot;, &quot;time&quot;, &quot;rgt&quot;, &quot;rms_misfit&quot;, &quot;dh_fit_dy&quot;, &quot;pflags&quot;, &quot;h_sigma&quot;, &quot;h_mean&quot;, &quot;dh_fit_dx&quot;, &quot;cycle&quot;, &quot;segment_id&quot;, &quot;gt&quot;, &quot;distance&quot;, &quot;w_surface_window_final&quot;, &quot;spot&quot;, &quot;n_fit_photons&quot;];\n",
       "    let table = &#x27;&lt;table&gt;&#x27; +\n",
       "        String(\n",
       "        fields.map(\n",
       "        (v,i)=&gt;\n",
       "        `&lt;tr&gt;\n",
       "            &lt;th&gt;${aliases[i]}&lt;/th&gt;\n",
       "            \n",
       "            &lt;td&gt;${handleObject(layer.feature.properties[v])}&lt;/td&gt;\n",
       "        &lt;/tr&gt;`).join(&#x27;&#x27;))\n",
       "    +&#x27;&lt;/table&gt;&#x27;;\n",
       "    div.innerHTML=table;\n",
       "    \n",
       "    return div\n",
       "    }\n",
       "    ,{&quot;className&quot;: &quot;foliumtooltip&quot;, &quot;sticky&quot;: true});\n",
       "                     \n",
       "&lt;/script&gt;\n",
       "&lt;/html&gt;\" style=\"position:absolute;width:100%;height:100%;left:0;top:0;border:none !important;\" allowfullscreen webkitallowfullscreen mozallowfullscreen></iframe></div></div>"
      ],
      "text/plain": [
       "<folium.folium.Map at 0x7f535b702b90>"
      ]
     },
     "execution_count": 6,
     "metadata": {},
     "output_type": "execute_result"
    }
   ],
   "source": [
    "# Always check wehere you data is!\n",
    "points = gf.reset_index()\n",
    "points.loc[:, 'time'] = points.time.dt.strftime('%Y-%m-%d')\n",
    "points.explore()"
   ]
  },
  {
   "cell_type": "code",
   "execution_count": 7,
   "id": "46d8f194-ae4e-44d8-b0c7-6f820ed6d5d3",
   "metadata": {
    "tags": []
   },
   "outputs": [
    {
     "name": "stdout",
     "output_type": "stream",
     "text": [
      "-100.94678306984892 -79.00104942913823 -100.63246339163007 -78.98240211911293\n"
     ]
    }
   ],
   "source": [
    "# Get bounding box of all of our points\n",
    "w,s,e,n = gf.unary_union.bounds #W, S, E, N\n",
    "print(w,s,e,n)"
   ]
  },
  {
   "cell_type": "code",
   "execution_count": 8,
   "id": "e02040c2-aa7d-4962-affc-fc6430e76aae",
   "metadata": {
    "tags": []
   },
   "outputs": [
    {
     "name": "stdout",
     "output_type": "stream",
     "text": [
      "pj_open_lib(proj.ini): call fopen(/srv/conda/envs/notebook/share/proj/proj.ini) - succeeded\n",
      "pj_open_lib(proj.db): call fopen(/srv/conda/envs/notebook/share/proj/proj.db) - succeeded\n",
      "pj_open_lib(us_noaa_nadcon5_nad27_nad83_1986_conus.tif): call fopen(/srv/conda/envs/notebook/share/proj/us_noaa_nadcon5_nad27_nad83_1986_conus.tif) - failed\n",
      "pj_open_lib(proj.db): call fopen(/srv/conda/envs/notebook/share/proj/proj.db) - succeeded\n",
      "pj_open_lib(us_noaa_nadcon5_nad83_1986_nad83_harn_conus.tif): call fopen(/srv/conda/envs/notebook/share/proj/us_noaa_nadcon5_nad83_1986_nad83_harn_conus.tif) - failed\n",
      "pj_open_lib(us_noaa_nadcon5_nad83_harn_nad83_fbn_conus.tif): call fopen(/srv/conda/envs/notebook/share/proj/us_noaa_nadcon5_nad83_harn_nad83_fbn_conus.tif) - failed\n",
      "pj_open_lib(us_noaa_nadcon5_nad83_fbn_nad83_2007_conus.tif): call fopen(/srv/conda/envs/notebook/share/proj/us_noaa_nadcon5_nad83_fbn_nad83_2007_conus.tif) - failed\n",
      "pj_open_lib(us_noaa_nadcon5_nad83_2007_nad83_2011_conus.tif): call fopen(/srv/conda/envs/notebook/share/proj/us_noaa_nadcon5_nad83_2007_nad83_2011_conus.tif) - failed\n",
      "pj_open_lib(us_noaa_alhpgn.tif): call fopen(/srv/conda/envs/notebook/share/proj/us_noaa_alhpgn.tif) - failed\n",
      "pj_open_lib(alhpgn.gsb): call fopen(/srv/conda/envs/notebook/share/proj/alhpgn.gsb) - failed\n",
      "pj_open_lib(us_noaa_conus.tif): call fopen(/srv/conda/envs/notebook/share/proj/us_noaa_conus.tif) - failed\n",
      "pj_open_lib(conus): call fopen(/srv/conda/envs/notebook/share/proj/conus) - failed\n",
      "pj_open_lib(us_noaa_FL.tif): call fopen(/srv/conda/envs/notebook/share/proj/us_noaa_FL.tif) - failed\n",
      "pj_open_lib(FL): call fopen(/srv/conda/envs/notebook/share/proj/FL) - failed\n",
      "pj_open_lib(us_noaa_lahpgn.tif): call fopen(/srv/conda/envs/notebook/share/proj/us_noaa_lahpgn.tif) - failed\n",
      "pj_open_lib(lahpgn.gsb): call fopen(/srv/conda/envs/notebook/share/proj/lahpgn.gsb) - failed\n",
      "pj_open_lib(us_noaa_mshpgn.tif): call fopen(/srv/conda/envs/notebook/share/proj/us_noaa_mshpgn.tif) - failed\n",
      "pj_open_lib(mshpgn.gsb): call fopen(/srv/conda/envs/notebook/share/proj/mshpgn.gsb) - failed\n",
      "pj_open_lib(us_noaa_ethpgn.tif): call fopen(/srv/conda/envs/notebook/share/proj/us_noaa_ethpgn.tif) - failed\n",
      "pj_open_lib(ethpgn.gsb): call fopen(/srv/conda/envs/notebook/share/proj/ethpgn.gsb) - failed\n",
      "pj_open_lib(au_icsm_GDA94_GDA2020_conformal_and_distortion.tif): call fopen(/srv/conda/envs/notebook/share/proj/au_icsm_GDA94_GDA2020_conformal_and_distortion.tif) - failed\n",
      "pj_open_lib(GDA94_GDA2020_conformal_and_distortion.gsb): call fopen(/srv/conda/envs/notebook/share/proj/GDA94_GDA2020_conformal_and_distortion.gsb) - failed\n",
      "pj_open_lib(eur_nkg_nkgrf17vel.tif): call fopen(/srv/conda/envs/notebook/share/proj/eur_nkg_nkgrf17vel.tif) - failed\n",
      "pj_open_lib(no_kv_NKGETRF14_EPSG7922_2000.tif): call fopen(/srv/conda/envs/notebook/share/proj/no_kv_NKGETRF14_EPSG7922_2000.tif) - failed\n",
      "pj_open_lib(Und_min1x1_egm2008_isw=82_WGS84_TideFree.gz): call fopen(/srv/conda/envs/notebook/share/proj/Und_min1x1_egm2008_isw=82_WGS84_TideFree.gz) - failed\n",
      "pj_open_lib(us_nga_egm08_25.tif): call fopen(/srv/conda/envs/notebook/share/proj/us_nga_egm08_25.tif) - failed\n",
      "pj_open_lib(egm08_25.gtx): call fopen(/srv/conda/envs/notebook/share/proj/egm08_25.gtx) - failed\n",
      "pj_open_lib(us_nga_egm08_25.tif): call fopen(/srv/conda/envs/notebook/share/proj/us_nga_egm08_25.tif) - failed\n",
      "pj_open_lib(egm08_25.gtx): call fopen(/srv/conda/envs/notebook/share/proj/egm08_25.gtx) - failed\n",
      "Using https://cdn.proj.org/us_nga_egm08_25.tif\n",
      "Candidate operations found: 1\n",
      "-------------------------------------\n",
      "Operation No. 1:\n",
      "\n",
      "pj_open_lib(us_nga_egm08_25.tif): call fopen(/srv/conda/envs/notebook/share/proj/us_nga_egm08_25.tif) - failed\n",
      "pj_open_lib(egm08_25.gtx): call fopen(/srv/conda/envs/notebook/share/proj/egm08_25.gtx) - failed\n",
      "Using https://cdn.proj.org/us_nga_egm08_25.tif\n",
      "unknown id, Inverse of Conversion from ITRF2014 (geocentric) to ITRF2014 (geog3D) + Inverse of WGS 84 (G2139) to ITRF2014 (1) + Inverse of Conversion from WGS 84 (G2139) (geog2D) to WGS 84 (G2139) (geocentric) + Inverse of WGS 84 to WGS 84 (G2139) + Inverse of Null geographic offset from WGS 84 (geog3D) to WGS 84 (geog2D) + WGS 84 to EGM2008 height (1), 3.01 m, World\n",
      "\n",
      "PROJ string:\n",
      "+proj=pipeline\n",
      "  +step +proj=axisswap +order=2,1\n",
      "  +step +proj=unitconvert +xy_in=deg +xy_out=rad\n",
      "  +step +inv +proj=vgridshift +grids=us_nga_egm08_25.tif +multiplier=1\n",
      "  +step +proj=unitconvert +xy_in=rad +xy_out=deg\n",
      "  +step +proj=axisswap +order=2,1\n"
     ]
    }
   ],
   "source": [
    "#!projinfo -s EPSG:7912 -t EPSG:9518 -o PROJ --hide-ballpark --spatial-test intersects\n",
    "!projinfo -s EPSG:7912 -t EPSG:9518 -o PROJ --bbox {w},{s},{e},{n}  --hide-ballpark --spatial-test intersects"
   ]
  },
  {
   "cell_type": "code",
   "execution_count": 9,
   "id": "4006bcc0-14dd-4bbd-aa8f-9e37df3ff1fc",
   "metadata": {
    "tags": []
   },
   "outputs": [
    {
     "data": {
      "text/html": [
       "<div>\n",
       "<style scoped>\n",
       "    .dataframe tbody tr th:only-of-type {\n",
       "        vertical-align: middle;\n",
       "    }\n",
       "\n",
       "    .dataframe tbody tr th {\n",
       "        vertical-align: top;\n",
       "    }\n",
       "\n",
       "    .dataframe thead th {\n",
       "        text-align: right;\n",
       "    }\n",
       "</style>\n",
       "<table border=\"1\" class=\"dataframe\">\n",
       "  <thead>\n",
       "    <tr style=\"text-align: right;\">\n",
       "      <th></th>\n",
       "      <th>geometry</th>\n",
       "    </tr>\n",
       "  </thead>\n",
       "  <tbody>\n",
       "    <tr>\n",
       "      <th>0</th>\n",
       "      <td>POINT Z (-100.63246 -78.98922 1875.21728)</td>\n",
       "    </tr>\n",
       "    <tr>\n",
       "      <th>1</th>\n",
       "      <td>POINT Z (-100.63265 -78.98904 1875.36690)</td>\n",
       "    </tr>\n",
       "  </tbody>\n",
       "</table>\n",
       "</div>"
      ],
      "text/plain": [
       "                                    geometry\n",
       "0  POINT Z (-100.63246 -78.98922 1875.21728)\n",
       "1  POINT Z (-100.63265 -78.98904 1875.36690)"
      ]
     },
     "execution_count": 9,
     "metadata": {},
     "output_type": "execute_result"
    }
   ],
   "source": [
    "# NOTE: only vshift so only expect vertical coordinate change\n",
    "points3D = gpd.points_from_xy(gf.geometry.x, gf.geometry.y, gf.h_mean)\n",
    "gf3D = gpd.GeoDataFrame(geometry=points3D, crs='EPSG:7912')\n",
    "gf3D.head(2)"
   ]
  },
  {
   "cell_type": "code",
   "execution_count": 10,
   "id": "38a740de-3c30-4434-a865-22374c7a7f19",
   "metadata": {
    "tags": []
   },
   "outputs": [
    {
     "data": {
      "text/plain": [
       "<Geographic 3D CRS: EPSG:7912>\n",
       "Name: ITRF2014\n",
       "Axis Info [ellipsoidal]:\n",
       "- Lat[north]: Geodetic latitude (degree)\n",
       "- Lon[east]: Geodetic longitude (degree)\n",
       "- h[up]: Ellipsoidal height (metre)\n",
       "Area of Use:\n",
       "- name: World.\n",
       "- bounds: (-180.0, -90.0, 180.0, 90.0)\n",
       "Datum: International Terrestrial Reference Frame 2014\n",
       "- Ellipsoid: GRS 1980\n",
       "- Prime Meridian: Greenwich"
      ]
     },
     "execution_count": 10,
     "metadata": {},
     "output_type": "execute_result"
    }
   ],
   "source": [
    "gf3D.crs"
   ]
  },
  {
   "cell_type": "code",
   "execution_count": 11,
   "id": "af6a3674-4552-4242-8a62-5753a0ed1be4",
   "metadata": {
    "tags": []
   },
   "outputs": [
    {
     "data": {
      "text/plain": [
       "array([[-100.63246339,  -78.98921541, 1875.21727596]])"
      ]
     },
     "execution_count": 11,
     "metadata": {},
     "output_type": "execute_result"
    }
   ],
   "source": [
    "shapely.get_coordinates(gf3D.iloc[0], include_z=True)"
   ]
  },
  {
   "cell_type": "code",
   "execution_count": 12,
   "id": "84ea693d-64b1-463c-889d-2a79295dbaf5",
   "metadata": {
    "tags": []
   },
   "outputs": [
    {
     "data": {
      "text/plain": [
       "array([[-100.63246339,  -78.98921541, 1904.67380708]])"
      ]
     },
     "execution_count": 12,
     "metadata": {},
     "output_type": "execute_result"
    }
   ],
   "source": [
    "gfGeoid = gf3D.to_crs(epsg=9518)\n",
    "shapely.get_coordinates(gfGeoid.iloc[0], include_z=True)"
   ]
  },
  {
   "cell_type": "code",
   "execution_count": 13,
   "id": "612f8f95-b2ad-4ef1-8b08-df0b0f37eb6c",
   "metadata": {
    "tags": []
   },
   "outputs": [],
   "source": [
    "#gfGeoid.head()"
   ]
  },
  {
   "cell_type": "code",
   "execution_count": 14,
   "id": "30c8b1dc-da22-4556-8f7b-fec65ff10d3c",
   "metadata": {
    "tags": []
   },
   "outputs": [
    {
     "name": "stderr",
     "output_type": "stream",
     "text": [
      "DEBUG:fiona._env:GDAL_DATA found in environment.\n",
      "DEBUG:fiona._env:PROJ_DATA found in environment.\n",
      "DEBUG:pyproj:PROJ_DEBUG: pj_open_lib(us_noaa_nadcon5_nad83_harn_nad83_fbn_conus.tif): call fopen(/home/jovyan/.local/share/proj/us_noaa_nadcon5_nad83_harn_nad83_fbn_conus.tif) - failed\n",
      "DEBUG:pyproj:PROJ_DEBUG: pj_open_lib(us_noaa_nadcon5_nad83_fbn_nad83_2007_conus.tif): call fopen(/home/jovyan/.local/share/proj/us_noaa_nadcon5_nad83_fbn_nad83_2007_conus.tif) - failed\n",
      "DEBUG:pyproj:PROJ_DEBUG: pj_open_lib(us_noaa_nadcon5_nad83_2007_nad83_2011_conus.tif): call fopen(/home/jovyan/.local/share/proj/us_noaa_nadcon5_nad83_2007_nad83_2011_conus.tif) - failed\n",
      "DEBUG:pyproj:PROJ_DEBUG: pj_open_lib(us_noaa_g2018u0.tif): call fopen(/home/jovyan/.local/share/proj/us_noaa_g2018u0.tif) - failed\n",
      "DEBUG:pyproj:PROJ_DEBUG: pj_open_lib(g2018u0.gtx): call fopen(/home/jovyan/.local/share/proj/g2018u0.gtx) - failed\n",
      "DEBUG:pyproj:PROJ_DEBUG: pj_open_lib(us_noaa_geoid03_conus.tif): call fopen(/home/jovyan/.local/share/proj/us_noaa_geoid03_conus.tif) - failed\n",
      "DEBUG:pyproj:PROJ_DEBUG: pj_open_lib(geoid03_conus.gtx): call fopen(/home/jovyan/.local/share/proj/geoid03_conus.gtx) - failed\n",
      "DEBUG:pyproj:PROJ_DEBUG: pj_open_lib(us_noaa_geoid09_conus.tif): call fopen(/home/jovyan/.local/share/proj/us_noaa_geoid09_conus.tif) - failed\n",
      "DEBUG:pyproj:PROJ_DEBUG: pj_open_lib(geoid09_conus.gtx): call fopen(/home/jovyan/.local/share/proj/geoid09_conus.gtx) - failed\n",
      "DEBUG:pyproj:PROJ_DEBUG: pj_open_lib(us_noaa_vertconw.tif): call fopen(/home/jovyan/.local/share/proj/us_noaa_vertconw.tif) - failed\n",
      "DEBUG:pyproj:PROJ_DEBUG: pj_open_lib(vertconw.gtx): call fopen(/home/jovyan/.local/share/proj/vertconw.gtx) - failed\n",
      "DEBUG:pyproj:PROJ_DEBUG: pj_open_lib(us_noaa_g1999u01.tif): call fopen(/home/jovyan/.local/share/proj/us_noaa_g1999u01.tif) - failed\n",
      "DEBUG:pyproj:PROJ_DEBUG: pj_open_lib(g1999u01.gtx): call fopen(/home/jovyan/.local/share/proj/g1999u01.gtx) - failed\n",
      "DEBUG:pyproj:PROJ_DEBUG: pj_open_lib(us_noaa_g2018u0.tif): call fopen(/home/jovyan/.local/share/proj/us_noaa_g2018u0.tif) - failed\n",
      "DEBUG:pyproj:PROJ_DEBUG: pj_open_lib(g2018u0.gtx): call fopen(/home/jovyan/.local/share/proj/g2018u0.gtx) - failed\n",
      "DEBUG:pyproj:PROJ_DEBUG: Using https://cdn.proj.org/us_noaa_g2018u0.tif\n",
      "DEBUG:pyproj:PROJ_DEBUG: pj_open_lib(us_noaa_nadcon5_nad83_1993_nad83_1997_prvi.tif): call fopen(/home/jovyan/.local/share/proj/us_noaa_nadcon5_nad83_1993_nad83_1997_prvi.tif) - failed\n",
      "DEBUG:pyproj:PROJ_DEBUG: pj_open_lib(us_noaa_nadcon5_nad83_1997_nad83_2002_prvi.tif): call fopen(/home/jovyan/.local/share/proj/us_noaa_nadcon5_nad83_1997_nad83_2002_prvi.tif) - failed\n",
      "DEBUG:pyproj:PROJ_DEBUG: pj_open_lib(us_noaa_nadcon5_nad83_2007_nad83_2011_conus.tif): call fopen(/home/jovyan/.local/share/proj/us_noaa_nadcon5_nad83_2007_nad83_2011_conus.tif) - failed\n",
      "DEBUG:pyproj:PROJ_DEBUG: Using https://cdn.proj.org/us_noaa_nadcon5_nad83_2007_nad83_2011_conus.tif\n",
      "DEBUG:pyproj:PROJ_DEBUG: pj_open_lib(us_noaa_nadcon5_nad83_fbn_nad83_2007_conus.tif): call fopen(/home/jovyan/.local/share/proj/us_noaa_nadcon5_nad83_fbn_nad83_2007_conus.tif) - failed\n",
      "DEBUG:pyproj:PROJ_DEBUG: Using https://cdn.proj.org/us_noaa_nadcon5_nad83_fbn_nad83_2007_conus.tif\n",
      "DEBUG:pyproj:PROJ_DEBUG: pj_open_lib(us_noaa_nadcon5_nad83_harn_nad83_fbn_conus.tif): call fopen(/home/jovyan/.local/share/proj/us_noaa_nadcon5_nad83_harn_nad83_fbn_conus.tif) - failed\n",
      "DEBUG:pyproj:PROJ_DEBUG: Using https://cdn.proj.org/us_noaa_nadcon5_nad83_harn_nad83_fbn_conus.tif\n",
      "DEBUG:pyproj:PROJ_DEBUG: pj_open_lib(us_noaa_geoid03_conus.tif): call fopen(/home/jovyan/.local/share/proj/us_noaa_geoid03_conus.tif) - failed\n",
      "DEBUG:pyproj:PROJ_DEBUG: pj_open_lib(geoid03_conus.gtx): call fopen(/home/jovyan/.local/share/proj/geoid03_conus.gtx) - failed\n",
      "DEBUG:pyproj:PROJ_DEBUG: Using https://cdn.proj.org/us_noaa_geoid03_conus.tif\n",
      "DEBUG:pyproj:PROJ_DEBUG: pj_open_lib(us_noaa_geoid09_conus.tif): call fopen(/home/jovyan/.local/share/proj/us_noaa_geoid09_conus.tif) - failed\n",
      "DEBUG:pyproj:PROJ_DEBUG: pj_open_lib(geoid09_conus.gtx): call fopen(/home/jovyan/.local/share/proj/geoid09_conus.gtx) - failed\n",
      "DEBUG:pyproj:PROJ_DEBUG: Using https://cdn.proj.org/us_noaa_geoid09_conus.tif\n",
      "DEBUG:pyproj:PROJ_DEBUG: pj_open_lib(us_noaa_g1999u01.tif): call fopen(/home/jovyan/.local/share/proj/us_noaa_g1999u01.tif) - failed\n",
      "DEBUG:pyproj:PROJ_DEBUG: pj_open_lib(g1999u01.gtx): call fopen(/home/jovyan/.local/share/proj/g1999u01.gtx) - failed\n",
      "DEBUG:pyproj:PROJ_DEBUG: Using https://cdn.proj.org/us_noaa_g1999u01.tif\n",
      "DEBUG:pyproj:PROJ_DEBUG: Using coordinate operation Inverse of Transformation from NAVD88 height to ITRF2014 (ballpark vertical transformation, without ellipsoid height to vertical height correction) + Inverse of Ballpark geographic offset from NAD83(HARN) to ITRF2014 + SPCS83 Washington South zone (US Survey feet)\n"
     ]
    }
   ],
   "source": [
    "# SHow debug log\n",
    "\n",
    "# CAREFUL, geopandas will happily do bogus transforms for you\n",
    "\n",
    "import logging\n",
    "logging.basicConfig(level=logging.DEBUG)\n",
    "\n",
    "with fiona.Env(CPL_DEBUG=True):\n",
    "    test = gf3D.to_crs(epsg=\"2927+5703\")"
   ]
  },
  {
   "cell_type": "code",
   "execution_count": 15,
   "id": "daf65bfc-2dff-4a88-a0dd-d2ef04c1fa76",
   "metadata": {
    "tags": []
   },
   "outputs": [
    {
     "data": {
      "text/html": [
       "<div>\n",
       "<style scoped>\n",
       "    .dataframe tbody tr th:only-of-type {\n",
       "        vertical-align: middle;\n",
       "    }\n",
       "\n",
       "    .dataframe tbody tr th {\n",
       "        vertical-align: top;\n",
       "    }\n",
       "\n",
       "    .dataframe thead th {\n",
       "        text-align: right;\n",
       "    }\n",
       "</style>\n",
       "<table border=\"1\" class=\"dataframe\">\n",
       "  <thead>\n",
       "    <tr style=\"text-align: right;\">\n",
       "      <th></th>\n",
       "      <th>geometry</th>\n",
       "    </tr>\n",
       "  </thead>\n",
       "  <tbody>\n",
       "    <tr>\n",
       "      <th>0</th>\n",
       "      <td>POINT Z (53991548.388 -183138438.398 1875.217)</td>\n",
       "    </tr>\n",
       "    <tr>\n",
       "      <th>1</th>\n",
       "      <td>POINT Z (53990465.763 -183136201.989 1875.367)</td>\n",
       "    </tr>\n",
       "    <tr>\n",
       "      <th>2</th>\n",
       "      <td>POINT Z (53989380.806 -183133966.815 1875.252)</td>\n",
       "    </tr>\n",
       "    <tr>\n",
       "      <th>3</th>\n",
       "      <td>POINT Z (53988291.113 -183131734.019 1875.504)</td>\n",
       "    </tr>\n",
       "    <tr>\n",
       "      <th>4</th>\n",
       "      <td>POINT Z (53987200.796 -183129501.561 1875.526)</td>\n",
       "    </tr>\n",
       "  </tbody>\n",
       "</table>\n",
       "</div>"
      ],
      "text/plain": [
       "                                         geometry\n",
       "0  POINT Z (53991548.388 -183138438.398 1875.217)\n",
       "1  POINT Z (53990465.763 -183136201.989 1875.367)\n",
       "2  POINT Z (53989380.806 -183133966.815 1875.252)\n",
       "3  POINT Z (53988291.113 -183131734.019 1875.504)\n",
       "4  POINT Z (53987200.796 -183129501.561 1875.526)"
      ]
     },
     "execution_count": 15,
     "metadata": {},
     "output_type": "execute_result"
    }
   ],
   "source": [
    "test.head()"
   ]
  },
  {
   "cell_type": "code",
   "execution_count": null,
   "id": "2308788e-9479-450d-b678-dfe000a9a70c",
   "metadata": {},
   "outputs": [],
   "source": []
  }
 ],
 "metadata": {
  "kernelspec": {
   "display_name": "Python 3 (ipykernel)",
   "language": "python",
   "name": "python3"
  },
  "language_info": {
   "codemirror_mode": {
    "name": "ipython",
    "version": 3
   },
   "file_extension": ".py",
   "mimetype": "text/x-python",
   "name": "python",
   "nbconvert_exporter": "python",
   "pygments_lexer": "ipython3",
   "version": "3.10.12"
  }
 },
 "nbformat": 4,
 "nbformat_minor": 5
}
